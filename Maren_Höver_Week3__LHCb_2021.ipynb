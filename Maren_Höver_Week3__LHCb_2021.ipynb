{
  "nbformat": 4,
  "nbformat_minor": 0,
  "metadata": {
    "colab": {
      "name": "Maren_Höver_Week3:_LHCb_2021.ipynb",
      "provenance": [],
      "collapsed_sections": []
    },
    "kernelspec": {
      "name": "python2",
      "display_name": "Python 2"
    },
    "accelerator": "GPU"
  },
  "cells": [
    {
      "cell_type": "markdown",
      "metadata": {
        "id": "1JafiSIrvEKW"
      },
      "source": [
        "Welcome to Week 4!\n",
        "\n",
        "We will be focussing in Particle Physics Analysis and detecting matter/antimatter assymetries in the production of certain types of particles. ![LHCb detector](https://www1b.physik.rwth-aachen.de/~schael/LHCb_files/LHCB%20PREVIEW-white-bg.jpg)\n",
        "\n",
        "The data we are using comes from LHCb - one of the experiments at LHC. It is a highly specialised detector aimed at detecting decays involving the B-quark. Unlike the other major experiments, LHCb detects particles very close to the source and looks almost exclusively in the forward direction - this gives the detector many advantages compared to other experiments at LHC.\n",
        "\n",
        "In order to get started, we need to access the [ROOT framework](https://root.cern.ch/) and download some datafiles into this machine.\n",
        "\n",
        "If you are using Google Colab then you need to ensure that you are using Python 2:\n",
        "\n",
        "Before we start - we have to use Python2 (not Python 3), so we should choose this as an option in \"Runtime\" -> \"Change Runtime Type\" at the top or create a new notebook in Python2 by appending \"&runtime=python2\" to the URL."
      ]
    },
    {
      "cell_type": "code",
      "metadata": {
        "id": "vFclIR72w0mU",
        "colab": {
          "base_uri": "https://localhost:8080/"
        },
        "outputId": "63966075-5410-45de-e4f9-237bd3240361"
      },
      "source": [
        "#Colab only\n",
        "#we are going to make a directory called APPS\n",
        "!mkdir -p APPS\n",
        "#Now we move to our directory called APPS and we download ROOT from the CERN server, this version is chosen because it runs on this machine - if you want to run this locally check the versions!\n",
        "!cd APPS && wget https://root.cern.ch/download/root_v6.13.08.Linux-ubuntu18-x86_64-gcc7.3.tar.gz \n",
        "#Now we extract our downloaded file:\n",
        "!cd APPS && tar -xf root_v6.13.08.Linux-ubuntu18-x86_64-gcc7.3.tar.gz\n"
      ],
      "execution_count": 1,
      "outputs": [
        {
          "output_type": "stream",
          "text": [
            "--2021-03-01 22:03:56--  https://root.cern.ch/download/root_v6.13.08.Linux-ubuntu18-x86_64-gcc7.3.tar.gz\n",
            "Resolving root.cern.ch (root.cern.ch)... 137.138.18.236, 2001:1458:201:ee::100:6\n",
            "Connecting to root.cern.ch (root.cern.ch)|137.138.18.236|:443... connected.\n",
            "HTTP request sent, awaiting response... 200 OK\n",
            "Length: 137415272 (131M) [application/x-gzip]\n",
            "Saving to: ‘root_v6.13.08.Linux-ubuntu18-x86_64-gcc7.3.tar.gz.3’\n",
            "\n",
            "root_v6.13.08.Linux 100%[===================>] 131.05M  19.9MB/s    in 7.8s    \n",
            "\n",
            "2021-03-01 22:04:05 (16.9 MB/s) - ‘root_v6.13.08.Linux-ubuntu18-x86_64-gcc7.3.tar.gz.3’ saved [137415272/137415272]\n",
            "\n"
          ],
          "name": "stdout"
        }
      ]
    },
    {
      "cell_type": "code",
      "metadata": {
        "id": "COPyXIvbxqht",
        "colab": {
          "base_uri": "https://localhost:8080/"
        },
        "outputId": "1a5ff2a1-e92f-47ae-fc69-60dd4174ca3d"
      },
      "source": [
        "#Colab only:\n",
        "#now we can extract some files from ROOT and ensure that we can access the libraries. We use some python key words to get access to the right files:\n",
        "\n",
        "import sys\n",
        "\n",
        "sys.path.append(\"/content/APPS/root/lib\")\n",
        "\n",
        "import ctypes\n",
        "\n",
        "\n",
        "ctypes.cdll.LoadLibrary('/content/APPS/root/lib/libCore.so')\n",
        "\n",
        "ctypes.cdll.LoadLibrary('/content/APPS/root/lib/libThread.so')\n",
        "\n",
        "ctypes.cdll.LoadLibrary('/content/APPS/root/lib/libImt.so')\n",
        "\n",
        "ctypes.cdll.LoadLibrary('/content/APPS/root/lib/libRIO.so')\n",
        "\n",
        "ctypes.cdll.LoadLibrary('/content/APPS/root/lib/libNet.so')\n",
        "\n",
        "ctypes.cdll.LoadLibrary('/content/APPS/root/lib/libTree.so')\n",
        "\n",
        "ctypes.cdll.LoadLibrary('/content/APPS/root/lib/libMathCore.so')\n",
        "\n",
        "ctypes.cdll.LoadLibrary('/content/APPS/root/lib/libMathMore.so')\n",
        "\n",
        "ctypes.cdll.LoadLibrary('/content/APPS/root/lib/libMatrix.so')\n",
        "\n",
        "ctypes.cdll.LoadLibrary('/content/APPS/root/lib/libHist.so')\n",
        "\n",
        "ctypes.cdll.LoadLibrary('/content/APPS/root/lib/libGraf.so')\n",
        "\n",
        "ctypes.cdll.LoadLibrary('/content/APPS/root/lib/libPyROOT.so')\n",
        "\n",
        "ctypes.cdll.LoadLibrary('/content/APPS/root/lib/libGpad.so')\n",
        "\n",
        "ctypes.cdll.LoadLibrary('/content/APPS/root/lib/libGraf3d.so')\n",
        "\n",
        "ctypes.cdll.LoadLibrary('/content/APPS/root/lib/libMultiProc.so')\n",
        "\n",
        "ctypes.cdll.LoadLibrary('/content/APPS/root/lib/libMinuit.so')\n",
        "\n",
        "ctypes.cdll.LoadLibrary('/content/APPS/root/lib/libFoam.so')"
      ],
      "execution_count": 2,
      "outputs": [
        {
          "output_type": "execute_result",
          "data": {
            "text/plain": [
              "<CDLL '/content/APPS/root/lib/libFoam.so', handle 55fdc2b54300 at 7fd506be1690>"
            ]
          },
          "metadata": {
            "tags": []
          },
          "execution_count": 2
        }
      ]
    },
    {
      "cell_type": "code",
      "metadata": {
        "id": "QTVz7NQMyDCb",
        "colab": {
          "base_uri": "https://localhost:8080/",
          "height": 606
        },
        "outputId": "6fa1ec3c-bdb9-41a4-f0f0-c7a3661ee495"
      },
      "source": [
        "#Now we can check if we have everything working as we expect: \n",
        "#Import brings the ROOT framework into our python environment.\n",
        "import ROOT\n",
        "#We define a 1 dimensional histogram, with 100 bins which ranges from -4 to +4\n",
        "h = ROOT.TH1F(\"gauss\",\"Example histogram\",100,-4,4)\n",
        "#Fill the histogram with gaussian (random) distribution\n",
        "h.FillRandom(\"gaus\")\n",
        "#make a Canvas (i.e. a drawing)\n",
        "c = ROOT.TCanvas(\"myCanvasName\",\"The Canvas Title\",800,600)\n",
        "#Draw my histogram\n",
        "h.Draw()\n",
        "#Show me the canvas\n",
        "c.Draw()"
      ],
      "execution_count": 3,
      "outputs": [
        {
          "output_type": "stream",
          "text": [
            "Welcome to JupyROOT 6.13/08\n"
          ],
          "name": "stdout"
        },
        {
          "output_type": "display_data",
          "data": {
            "image/png": "[encoded data removed]",
            "text/plain": [
              "<IPython.core.display.Image object>"
            ]
          },
          "metadata": {
            "tags": []
          }
        }
      ]
    },
    {
      "cell_type": "markdown",
      "metadata": {
        "id": "VXW1M6XB0tXP"
      },
      "source": [
        "All being well - this should give no errors and we should have some kind of Gaussian distribution above.\n",
        "\n",
        "The next step is to get our data file - you can find it on Canvas here: https://maastrichtuniversity.instructure.com/courses/5826/files/553829?module_item_id=115201\n",
        "\n",
        "Then upload it either directly or to your Google Drive and then mount this to your Colab environment"
      ]
    },
    {
      "cell_type": "code",
      "metadata": {
        "colab": {
          "base_uri": "https://localhost:8080/"
        },
        "id": "4uYgb7dNF94b",
        "outputId": "9d2b8461-6fee-4b91-ae72-722169947b75"
      },
      "source": [
        "from google.colab import drive\n",
        "drive.mount('/content/drive')"
      ],
      "execution_count": 4,
      "outputs": [
        {
          "output_type": "stream",
          "text": [
            "Drive already mounted at /content/drive; to attempt to forcibly remount, call drive.mount(\"/content/drive\", force_remount=True).\n"
          ],
          "name": "stdout"
        }
      ]
    },
    {
      "cell_type": "code",
      "metadata": {
        "id": "Co476pbmBvBB",
        "colab": {
          "base_uri": "https://localhost:8080/",
          "height": 640
        },
        "outputId": "fbd0cc63-4edd-485f-97c8-af21c54dff1d"
      },
      "source": [
        "#Since we need to use ROOT, we must first import this into Python:\n",
        "import ROOT\n",
        "#Then we open the ROOT file using the TFile command. - note you need to make this file path correct for your own setup!\n",
        "f = ROOT.TFile.Open(\"/content/drive/MyDrive/Colab Notebooks/B2HHH_MagnetUp.root\", \"READONLY\")\n",
        "#From our file, we have to extract the DecayTree \n",
        "tree=f.Get(\"data\")\n",
        "#Now we can grab some variables as a test:\n",
        "ymomentum = ROOT.RooRealVar(\"H1_PY\",\"H1 Y Momentum\",-3000,3000,\"MeV/c\")\n",
        "xmomentum = ROOT.RooRealVar(\"H1_PX\",\"H1 X Momentum\",-3000,3000,\"MeV/c\")\n",
        "zmomentum = ROOT.RooRealVar(\"H1_PZ\",\"H1 Z Momentum\",-3000,3000,\"MeV/c\")\n",
        "# We then create a dataset for us to play with\n",
        "data = ROOT.RooDataSet(\"data\",\"data set\", tree, ROOT.RooArgSet(xmomentum,ymomentum,zmomentum), \"1==1\")\n",
        "# Now we create a canvas, plot our data onto the canvas and draw it:\n",
        "c = ROOT.TCanvas(\"c\",\"c\")\n",
        "frame = xmomentum.frame()\n",
        "data.plotOn(frame)\n",
        "frame.Draw()\n",
        "c.Draw()"
      ],
      "execution_count": 5,
      "outputs": [
        {
          "output_type": "stream",
          "text": [
            "\n",
            "\u001b[1mRooFit v3.60 -- Developed by Wouter Verkerke and David Kirkby\u001b[0m \n",
            "                Copyright (C) 2000-2013 NIKHEF, University of California & Stanford University\n",
            "                All rights reserved, please read http://roofit.sourceforge.net/license.txt\n",
            "\n",
            "[#1] INFO:Eval -- RooAbsReal::attachToTree(H1_PX) TTree Float_t branch H1_PX will be converted to double precision\n",
            "[#1] INFO:Eval -- RooAbsReal::attachToTree(H1_PY) TTree Float_t branch H1_PY will be converted to double precision\n",
            "[#1] INFO:Eval -- RooAbsReal::attachToTree(H1_PZ) TTree Float_t branch H1_PZ will be converted to double precision\n",
            "[#1] INFO:Eval -- RooTreeDataStore::loadValues(data) Ignored 3305139 out of range events\n"
          ],
          "name": "stdout"
        },
        {
          "output_type": "display_data",
          "data": {
            "image/png": "[encoded data removed]",
            "text/plain": [
              "<IPython.core.display.Image object>"
            ]
          },
          "metadata": {
            "tags": []
          }
        }
      ]
    },
    {
      "cell_type": "markdown",
      "metadata": {
        "id": "4e4n4iS3IJZi"
      },
      "source": [
        "#Why are we here?\n",
        "\n",
        "This week is about finding out something about one of the fundemental questions in physics. Why do we have \"stuff\".\n",
        "\n",
        "According to many of our models, and according to many measurements in particle physics, matter and anti-matter appear to be produced in equal quantities.\n",
        "\n",
        "However, when one looks at the Universe in general, we have more matter than anti-matter left - so there need to be some processes where anti-matter and matter are not produced equally. You can find out more about the Matter/Anti-Matter Asymmetry [here](http://press.web.cern.ch/backgrounders/matterantimatter-asymmetry)\n",
        "\n",
        "One place we look for this asymetry is in [charge-partity (CP) violation](https://www.symmetrymagazine.org/article/october-2005/explain-it-in-60-seconds) in particle physics processes. This essentially says that the processes that happen in the anti-particle version of a decay do not **exactly** match to the processes that happen in the particle version of the decay.\n",
        "\n",
        "\n",
        "\n",
        "---\n",
        "\n",
        "\n",
        "\n",
        "At LHCb, we produce both particle of the  B<sup>+</sup> meson and it's antiparticle the B<sup>-</sup> meson.\n",
        "\n",
        "We cannot detect these mesons directly. They decay into other things before we have a chance to measure them properly. So we collect data on the decay products, often called daughter particles. There are 524 [documented](http://pdg.lbl.gov/2014/listings/rpp2014-list-B-plus-minus.pdf) ways that the B<sup>+/-</sup> decays into various combinations. In order to simplify the process, we choose decay combinations that are convenient or have particular properties.\n",
        "\n",
        "In this analysis, we will take the process:-\n",
        "\n",
        "B<sup>+</sup>->K<sup>+</sup> + K<sup>+</sup>  + K<sup>-</sup>\n",
        "\n",
        "or\n",
        "\n",
        "B<sup>-</sup>->K<sup>-</sup> + K<sup>-</sup>  + K<sup>+</sup>\n",
        "\n",
        "\n",
        "To do so, we are given the following data for each event in our system:-\n",
        "\n",
        "![alt text](https://raw.githubusercontent.com/lhcb/opendata-project/80d64a3796e593fc8f9b257e85f32ae2e54f131f/Images/Variables.png)\n",
        "\n",
        "Here, H1 is the detected daughter particle (so a Kaon or a Pion), **not** the B-meson - the mother particle. Normally we would have to do some reconstruction from the decay products (the Daughters) to the Mother to be able to make some conclusions.\n",
        "\n",
        "Let's get started with working with this data:"
      ]
    },
    {
      "cell_type": "markdown",
      "metadata": {
        "id": "LOhfj7kfP-ao"
      },
      "source": [
        "For our analysis, the momentum of each of the daughter particles is split into the three cartesian components. We have combined these into a variable called H1_Ptot"
      ]
    },
    {
      "cell_type": "markdown",
      "metadata": {
        "id": "QH0QNnf_4eWH"
      },
      "source": [
        "------------------------------------------------------------------------\r\n",
        "Function to calculate the total momentum from the three directional momenta"
      ]
    },
    {
      "cell_type": "code",
      "metadata": {
        "id": "Y4keyoyTPjsK"
      },
      "source": [
        "def d_Ptot(d):\r\n",
        "  Ptot = \"(sqrt(\"+d+\"_PX**2+\"+d+\"_PY**2+\"+d+\"_PZ**2))\"\r\n",
        "  return Ptot"
      ],
      "execution_count": 6,
      "outputs": []
    },
    {
      "cell_type": "markdown",
      "metadata": {
        "id": "AqCaWxaQ8Dpf"
      },
      "source": [
        "Plotting the total Momentum of each daughter particle - calculated from the three directional momenta"
      ]
    },
    {
      "cell_type": "code",
      "metadata": {
        "id": "Okp9P6Q1Srv1",
        "colab": {
          "base_uri": "https://localhost:8080/",
          "height": 589
        },
        "outputId": "428ee16e-2bb2-4da7-8fbe-bcb0f91377d2"
      },
      "source": [
        "#Here make a plot of the Total momentum of each of the three daughters\r\n",
        "c1 = ROOT.TCanvas(\"Momentums of particles\",\"Momentum\",800,600)\r\n",
        "tree.Draw(d_Ptot(\"H1\")+\">>momentumH1(100,0,275000)\")\r\n",
        "tree.Draw(d_Ptot(\"H2\")+\">>momentumH2(100,0,275000)\")\r\n",
        "tree.Draw(d_Ptot(\"H3\")+\">>momentumH3(100,0,275000)\")\r\n",
        "histogram1 = ROOT.gDirectory.Get(\"momentumH1\")\r\n",
        "histogram2 = ROOT.gDirectory.Get(\"momentumH2\")\r\n",
        "histogram3 = ROOT.gDirectory.Get(\"momentumH3\")\r\n",
        "histogram1.SetLineColor(1)\r\n",
        "histogram2.SetLineColor(2)\r\n",
        "histogram3.SetLineColor(4)\r\n",
        "#Set Titles\r\n",
        "histogram1.SetTitle(\"Total Momentum of each Daughter Partical\")\r\n",
        "histogram1.SetYTitle(\"Number of Events\")\r\n",
        "histogram1.SetXTitle(\"Total Momentum\")\r\n",
        "#Draw\r\n",
        "histogram1.Draw()\r\n",
        "histogram2.Draw('Same')\r\n",
        "histogram3.Draw('Same')\r\n",
        "c1.Draw()\r\n",
        "#Make legend\r\n",
        "leg = ROOT.TLegend(0.2,0.85,.4,.7)\r\n",
        "leg.SetBorderSize(1)\r\n",
        "leg.SetFillColor(0)\r\n",
        "leg.SetFillStyle(0)\r\n",
        "leg.SetTextFont(42)\r\n",
        "leg.SetTextSize(0.035)\r\n",
        "leg.AddEntry(histogram1,\"Daughter 1\",\"L\")\r\n",
        "leg.AddEntry(histogram2,\"Daughter 2\",\"L\")\r\n",
        "leg.AddEntry(histogram3,\"Daughter 3\",\"L\")\r\n",
        "leg.Draw()"
      ],
      "execution_count": 7,
      "outputs": [
        {
          "output_type": "display_data",
          "data": {
            "image/png": "[encoded data removed]",
            "text/plain": [
              "<IPython.core.display.Image object>"
            ]
          },
          "metadata": {
            "tags": []
          }
        }
      ]
    },
    {
      "cell_type": "markdown",
      "metadata": {
        "id": "oH6ofzx8WZLd"
      },
      "source": [
        "Plotting the total Momentum of each daughter particle - as already in the data"
      ]
    },
    {
      "cell_type": "code",
      "metadata": {
        "colab": {
          "base_uri": "https://localhost:8080/",
          "height": 606
        },
        "id": "TkQd4IyB4yde",
        "outputId": "4c674c7a-fb48-4589-e571-08f8d584ef4b"
      },
      "source": [
        "#Here make a plot of the Total momentum of each of the three daughters\r\n",
        "c2 = ROOT.TCanvas(\"Momentums of particles\",\"Momentum\",800,600)\r\n",
        "tree.Draw(\"H1_Ptot\"+\">>momentumH1(100,0,275000)\")\r\n",
        "tree.Draw(\"H2_Ptot\"+\">>momentumH2(100,0,275000)\")\r\n",
        "tree.Draw(\"H3_Ptot\"+\">>momentumH3(100,0,275000)\")\r\n",
        "histogram1 = ROOT.gDirectory.Get(\"momentumH1\")\r\n",
        "histogram2 = ROOT.gDirectory.Get(\"momentumH2\")\r\n",
        "histogram3 = ROOT.gDirectory.Get(\"momentumH3\")\r\n",
        "histogram1.SetLineColor(1)\r\n",
        "histogram2.SetLineColor(2)\r\n",
        "histogram3.SetLineColor(4)\r\n",
        "#Set Titles\r\n",
        "histogram1.SetTitle(\"Total Momentum of each Daughter Partical\")\r\n",
        "histogram1.SetYTitle(\"Number of Events\")\r\n",
        "histogram1.SetXTitle(\"Total Momentum\")\r\n",
        "histogram1.Draw()\r\n",
        "histogram2.Draw('Same')\r\n",
        "histogram3.Draw('Same')\r\n",
        "c2.Draw()\r\n",
        "#Make legend\r\n",
        "leg = ROOT.TLegend(0.2,0.85,.4,.7)\r\n",
        "leg.SetBorderSize(1)\r\n",
        "leg.SetFillColor(0)\r\n",
        "leg.SetFillStyle(0)\r\n",
        "leg.SetTextFont(42)\r\n",
        "leg.SetTextSize(0.035)\r\n",
        "leg.AddEntry(histogram1,\"Daughter 1\",\"L\")\r\n",
        "leg.AddEntry(histogram2,\"Daughter 2\",\"L\")\r\n",
        "leg.AddEntry(histogram3,\"Daughter 3\",\"L\")\r\n",
        "leg.Draw()"
      ],
      "execution_count": 8,
      "outputs": [
        {
          "output_type": "stream",
          "text": [
            "Warning in <TCanvas::Constructor>: Deleting canvas with same name: Momentums of particles\n"
          ],
          "name": "stderr"
        },
        {
          "output_type": "display_data",
          "data": {
            "image/png": "[encoded data removed]",
            "text/plain": [
              "<IPython.core.display.Image object>"
            ]
          },
          "metadata": {
            "tags": []
          }
        }
      ]
    },
    {
      "cell_type": "markdown",
      "metadata": {
        "id": "qm2T6ihhWlHd"
      },
      "source": [
        "Surprise, they look exactly the same"
      ]
    },
    {
      "cell_type": "markdown",
      "metadata": {
        "id": "C1lXLMCoR1Gi"
      },
      "source": [
        "------------------------------------------------------------------------\r\n",
        "Now plot the total momentum for the mother (M_Ptot)"
      ]
    },
    {
      "cell_type": "code",
      "metadata": {
        "id": "6kdbiNpPR1QG",
        "colab": {
          "base_uri": "https://localhost:8080/",
          "height": 606
        },
        "outputId": "73d3c9cc-a36e-401b-aadd-354b9d2b7543"
      },
      "source": [
        "#use the histogram plotting tools, plot the momentum of the mother\r\n",
        "c3 = ROOT.TCanvas(\"Momentums of particles\",\"Momentum\",800,600)\r\n",
        "tree.Draw(\"M_Ptot\"+\">>momentum_M_Ptot(100,0,275000)\")\r\n",
        "histogram = ROOT.gDirectory.Get(\"momentum_M_Ptot\")\r\n",
        "#Set Titles\r\n",
        "histogram.SetTitle(\"Total Momentum of Mother Particle\")\r\n",
        "histogram.SetYTitle(\"Number of Events\")\r\n",
        "histogram.SetXTitle(\"Total Momentum\")\r\n",
        "histogram.Draw()\r\n",
        "c3.Draw()\r\n",
        "#Make legend\r\n",
        "leg = ROOT.TLegend(0.12,0.85,.33,.8)\r\n",
        "leg.SetBorderSize(1)\r\n",
        "leg.SetFillColor(0)\r\n",
        "leg.SetFillStyle(0)\r\n",
        "leg.SetTextFont(42)\r\n",
        "leg.SetTextSize(0.035)\r\n",
        "leg.AddEntry(histogram,\"Mother Particle\",\"L\")\r\n",
        "leg.Draw()"
      ],
      "execution_count": 9,
      "outputs": [
        {
          "output_type": "stream",
          "text": [
            "Warning in <TCanvas::Constructor>: Deleting canvas with same name: Momentums of particles\n"
          ],
          "name": "stderr"
        },
        {
          "output_type": "display_data",
          "data": {
            "image/png": "[encoded data removed]",
            "text/plain": [
              "<IPython.core.display.Image object>"
            ]
          },
          "metadata": {
            "tags": []
          }
        }
      ]
    },
    {
      "cell_type": "markdown",
      "metadata": {
        "id": "Gj5qv5kqSMIF"
      },
      "source": [
        "Let's take a look at the whole data file that is available to us by looking at one specific entry - number 45"
      ]
    },
    {
      "cell_type": "code",
      "metadata": {
        "id": "QMkih_6SSG8I",
        "colab": {
          "base_uri": "https://localhost:8080/"
        },
        "outputId": "b272c2f5-cff8-403d-cdea-060b409711a3"
      },
      "source": [
        "tree.Show(45)"
      ],
      "execution_count": 10,
      "outputs": [
        {
          "output_type": "stream",
          "text": [
            "======> EVENT:45\n",
            " B_FlightDistance = 4.71407\n",
            " B_VertexChi2    = 11.5278\n",
            " H1_PX           = 133.376\n",
            " H1_PY           = -1293.52\n",
            " H1_PZ           = 33534.2\n",
            " H1_ProbK        = 0.00735235\n",
            " H1_ProbPi       = 0.204907\n",
            " H1_Charge       = 1\n",
            " H1_IPChi2       = 22.9885\n",
            " H1_isMuon       = 0\n",
            " H2_PX           = 518.943\n",
            " H2_PY           = -1966.2\n",
            " H2_PZ           = 52184.7\n",
            " H2_ProbK        = 0.00482044\n",
            " H2_ProbPi       = 0.266655\n",
            " H2_Charge       = -1\n",
            " H2_IPChi2       = 20.5652\n",
            " H2_isMuon       = 0\n",
            " H3_PX           = 1383.62\n",
            " H3_PY           = -2008.35\n",
            " H3_PZ           = 12154\n",
            " H3_ProbK        = 0.0800247\n",
            " H3_ProbPi       = 0.403711\n",
            " H3_Charge       = -1\n",
            " H3_IPChi2       = 1584.95\n",
            " H3_isMuon       = 0\n",
            " H1_Ptot         = 33559.4\n",
            " H1_type         = 1\n",
            " H1_E            = 33559.7\n",
            " H2_Ptot         = 52224.4\n",
            " H2_type         = 1\n",
            " H2_E            = 52224.5\n",
            " H3_Ptot         = 12396.2\n",
            " H3_type         = 1\n",
            " H3_E            = 12397\n",
            " M_Ptot          = 98035.7\n",
            " M_E             = 98181.3\n",
            " M_m0            = 5343.69\n"
          ],
          "name": "stdout"
        }
      ]
    },
    {
      "cell_type": "markdown",
      "metadata": {
        "id": "w3sqwtNTUEJd"
      },
      "source": [
        "We have now completed the initial steps and begun to work through what we need to with the data. This is a perfect moment to take a coffee!"
      ]
    },
    {
      "cell_type": "markdown",
      "metadata": {
        "id": "6RhWWqt3a8_e"
      },
      "source": [
        "Having discovered all of the relevant information about our daughter particles, we need to combine the measurements about them into a single mother - which will be our B<sup>+</sup> or our B<sup>-</sup>\r\n",
        "\r\n",
        "Having found our momentum and energy, we can use these quantities to find our experimental mass (not the theoretical mass as we have used for the reconstruction).\r\n",
        "\r\n",
        "When we calculate this, we will get a distribution of masses. This is due to errors in the measurements made either by the detector, or in the experiment itself. We hope to have a reasonably narrow peak to work with, but, sometimes this is not possible.\r\n",
        "\r\n",
        "Additionally there will be other particles in the detector - which means our daughters might have come from two or even three different processes. Events which don't come from the same process will give a higher or lower mass than we are looking for. This is typically called the *background* while events which come from our event of interest are called the *signal*"
      ]
    },
    {
      "cell_type": "markdown",
      "metadata": {
        "id": "Z7ib1JrSYYlk"
      },
      "source": [
        "----------------------------------------------------------------------\r\n",
        "**B Meson Mass distribution**"
      ]
    },
    {
      "cell_type": "code",
      "metadata": {
        "id": "onr7-8CMbbFf",
        "colab": {
          "base_uri": "https://localhost:8080/",
          "height": 589
        },
        "outputId": "5c45b652-d691-4b0e-8b0e-ea9e7215db37"
      },
      "source": [
        "#Now plot a histogram of the range of masses of the B meson.\r\n",
        "#Does this match what we would expect from theory?\r\n",
        "\r\n",
        "c4 = ROOT.TCanvas(\"Mass\",\"Mass\",800,600)\r\n",
        "#Formula to calculate Mass from Energy and Momentum, could also use \"mass\"\r\n",
        "tree.Draw(\"sqrt((\" + \"M_E\" + \")**2 - \" + \"M_Ptot\" + \"**2)\"+\">>mass distribution(1000,5000,6500)\") \r\n",
        "histograme = ROOT.gDirectory.Get(\"mass distribution\")\r\n",
        "histograme.SetTitle(\"Mass Distribution B Meson\")\r\n",
        "histograme.SetYTitle(\"Number of Events/ 1.5 MeV/c^2\")\r\n",
        "histograme.SetXTitle(\"Mass in MeV/c^2\")\r\n",
        "c4.Draw()\r\n"
      ],
      "execution_count": 11,
      "outputs": [
        {
          "output_type": "display_data",
          "data": {
            "image/png": "[encoded data removed]",
            "text/plain": [
              "<IPython.core.display.Image object>"
            ]
          },
          "metadata": {
            "tags": []
          }
        }
      ]
    },
    {
      "cell_type": "markdown",
      "metadata": {
        "id": "GXXf9t0-nZ5G"
      },
      "source": [
        "This agrees with what we see from theory. The mass is about right\r\n"
      ]
    },
    {
      "cell_type": "markdown",
      "metadata": {
        "id": "MWGFKFnXb0RP"
      },
      "source": [
        "We know that some of our particles are the B+ and some are the B- particle. There will also be some particles in our system that are not coming from a genuine B+/- or are a B+/- but are not constructed from Kaons.\r\n",
        "\r\n",
        "We have some tools available to help:-\r\n",
        "\r\n",
        "  *  During detection, software attributes the probability of a particle being a Kaon or a Pion (in the H1_ProbK or H1_ProbPi variable)\r\n",
        "  * The detector also knows if the particle was a Muon - since it has detectors specifically for these. So it can attribute a 0 or a 1 to this probability\r\n",
        "  * The reconstructed vertex has a some kind of quality associated with it (we call this the Vertex χ2 (this is the variable B_VertexChi2). This is the statistical measure that determines how well we found a single point to be the source of all three particles.\r\n",
        "\r\n"
      ]
    },
    {
      "cell_type": "markdown",
      "metadata": {
        "id": "BpUf4TyFbL1o"
      },
      "source": [
        ""
      ]
    },
    {
      "cell_type": "markdown",
      "metadata": {
        "id": "fEpnSmH4b9HZ"
      },
      "source": [
        "In order to get a better result, we should select our data to have the properties we desire and make some rules (often called a selection) to cut away data we don't want to include for various reasons. e.g. we know we don't have any muons in our decay - so any time H1/H2/H3 are a muon they should be excluded. The other variables are not so clear - so we can plot them to make a decision."
      ]
    },
    {
      "cell_type": "code",
      "metadata": {
        "id": "k0vikJp0cAvv",
        "colab": {
          "base_uri": "https://localhost:8080/",
          "height": 606
        },
        "outputId": "0e92c4de-6fcf-44a4-e921-9e87640a5648"
      },
      "source": [
        "#Make plots of H1/H2/H3 _ProbK on one plot\r\n",
        "c5 = ROOT.TCanvas(\"Momentums of particles\",\"Momentum\",800,600)\r\n",
        "tree.Draw(\"H1_ProbK\"+\">>H1_probK(100,0,1)\")\r\n",
        "tree.Draw(\"H2_ProbK\"+\">>H2_ProbK(100,0,1)\")\r\n",
        "tree.Draw(\"H3_ProbK\"+\">>H3_ProbK(100,0,1)\")\r\n",
        "histogram1 = ROOT.gDirectory.Get(\"H1_probK\")\r\n",
        "histogram2 = ROOT.gDirectory.Get(\"H2_ProbK\")\r\n",
        "histogram3 = ROOT.gDirectory.Get(\"H3_ProbK\")\r\n",
        "histogram1.SetLineColor(1)\r\n",
        "histogram2.SetLineColor(2)\r\n",
        "histogram3.SetLineColor(4)\r\n",
        "histogram1.SetTitle(\"Kaon Probability\")\r\n",
        "histogram1.SetYTitle(\"Number of Events\")\r\n",
        "histogram1.SetXTitle(\"Probability\")\r\n",
        "histogram1.Draw()\r\n",
        "histogram2.Draw('Same')\r\n",
        "histogram3.Draw('Same')\r\n",
        "c5.Draw()\r\n",
        "#Make legend\r\n",
        "leg = ROOT.TLegend(0.2,0.85,.4,.7)\r\n",
        "leg.SetBorderSize(1)\r\n",
        "leg.SetFillColor(0)\r\n",
        "leg.SetFillStyle(0)\r\n",
        "leg.SetTextFont(42)\r\n",
        "leg.SetTextSize(0.035)\r\n",
        "leg.AddEntry(histogram1,\"Daughter 1\",\"L\")\r\n",
        "leg.AddEntry(histogram2,\"Daughter 2\",\"L\")\r\n",
        "leg.AddEntry(histogram3,\"Daughter 3\",\"L\")\r\n",
        "leg.Draw()"
      ],
      "execution_count": 12,
      "outputs": [
        {
          "output_type": "stream",
          "text": [
            "Warning in <TCanvas::Constructor>: Deleting canvas with same name: Momentums of particles\n"
          ],
          "name": "stderr"
        },
        {
          "output_type": "display_data",
          "data": {
            "image/png": "[encoded data removed]",
            "text/plain": [
              "<IPython.core.display.Image object>"
            ]
          },
          "metadata": {
            "tags": []
          }
        }
      ]
    },
    {
      "cell_type": "code",
      "metadata": {
        "id": "pikYO7bK2g-i",
        "colab": {
          "base_uri": "https://localhost:8080/",
          "height": 589
        },
        "outputId": "4635a4cf-8a4a-4d0e-dc82-7e1ce9e93181"
      },
      "source": [
        "#Make plots of H1/H2/H3 _ProbPi on one plot\r\n",
        "c6 = ROOT.TCanvas(\"Pion Probability\",\"Probability\",800,600)\r\n",
        "tree.Draw(\"H1_ProbPi\"+\">>H1_probPi(100,0,1)\")\r\n",
        "tree.Draw(\"H2_ProbPi\"+\">>H2_ProbPi(100,0,1)\")\r\n",
        "tree.Draw(\"H3_ProbPi\"+\">>H3_ProbPi(100,0,1)\")\r\n",
        "histogram1 = ROOT.gDirectory.Get(\"H1_probPi\")\r\n",
        "histogram2 = ROOT.gDirectory.Get(\"H2_ProbPi\")\r\n",
        "histogram3 = ROOT.gDirectory.Get(\"H3_ProbPi\")\r\n",
        "histogram1.SetLineColor(1)\r\n",
        "histogram2.SetLineColor(2)\r\n",
        "histogram3.SetLineColor(4)\r\n",
        "histogram1.SetTitle(\"Pion Probability\")\r\n",
        "histogram1.SetYTitle(\"Number of Events\")\r\n",
        "histogram1.SetXTitle(\"Probability\")\r\n",
        "histogram1.Draw()\r\n",
        "histogram2.Draw('Same')\r\n",
        "histogram3.Draw('Same')\r\n",
        "c6.Draw()\r\n",
        "#Make legend\r\n",
        "leg = ROOT.TLegend(0.3,0.85,.5,.7)\r\n",
        "leg.SetBorderSize(1)\r\n",
        "leg.SetFillColor(0)\r\n",
        "leg.SetFillStyle(0)\r\n",
        "leg.SetTextFont(42)\r\n",
        "leg.SetTextSize(0.035)\r\n",
        "leg.AddEntry(histogram1,\"Daughter 1\",\"L\")\r\n",
        "leg.AddEntry(histogram2,\"Daughter 2\",\"L\")\r\n",
        "leg.AddEntry(histogram3,\"Daughter 3\",\"L\")\r\n",
        "leg.Draw()"
      ],
      "execution_count": 13,
      "outputs": [
        {
          "output_type": "display_data",
          "data": {
            "image/png": "[encoded data removed]",
            "text/plain": [
              "<IPython.core.display.Image object>"
            ]
          },
          "metadata": {
            "tags": []
          }
        }
      ]
    },
    {
      "cell_type": "code",
      "metadata": {
        "id": "-Q9nniZ33LVI",
        "colab": {
          "base_uri": "https://localhost:8080/",
          "height": 589
        },
        "outputId": "c860ef6f-42c3-49f5-fbdc-d9188d883e17"
      },
      "source": [
        "#For all our particles, make a plot of the B_VertexChi2\r\n",
        "c4 = ROOT.TCanvas(\"vertex\", \"vertex\", 800, 600)\r\n",
        "tree.Draw(\"B_VertexChi2\"+\">>histogram16(500,0,12)\")\r\n",
        "histogram16 = ROOT.gDirectory.Get(\"histogram16\")\r\n",
        "histogram16.SetTitle(\"B Vertex Chi^2\")\r\n",
        "histogram16.SetYTitle(\"Number of Events\")\r\n",
        "histogram16.SetXTitle(\"Chi^{2}\")\r\n",
        "c4.Draw()"
      ],
      "execution_count": 14,
      "outputs": [
        {
          "output_type": "display_data",
          "data": {
            "image/png": "[encoded data removed]",
            "text/plain": [
              "<IPython.core.display.Image object>"
            ]
          },
          "metadata": {
            "tags": []
          }
        }
      ]
    },
    {
      "cell_type": "markdown",
      "metadata": {
        "id": "DWmxBkZ0cDx1"
      },
      "source": [
        "Using these plots, we can now make a preselection string. This is a text string that looks like "
      ]
    },
    {
      "cell_type": "code",
      "metadata": {
        "id": "MxD7JMeicMu0"
      },
      "source": [
        "#To apply the selection - we can use the copytree command:\r\n",
        "#After trying a few options, I found this selection to give me the nicest graph, but I guess thats subjective\r\n",
        "selection=(\"!H1_isMuon & !H2_isMuon & !H3_isMuon &  H1_ProbK > 0.6 & H2_ProbK > 0.6 & H3_ProbK > 0.6 \") \r\n",
        "#So now we take our data in tree and apply selection to it (so only events which comply with those rules are kept) and put the new data in CutTree\r\n",
        "CutTree=tree.CopyTree(selection)"
      ],
      "execution_count": 15,
      "outputs": []
    },
    {
      "cell_type": "code",
      "metadata": {
        "id": "hmmsoUwEcOir",
        "colab": {
          "base_uri": "https://localhost:8080/",
          "height": 589
        },
        "outputId": "1b395bed-e6f7-4aaa-e5dd-e48dc73e9707"
      },
      "source": [
        "#Now as a good check, we should see the effect of applying our cuts.\r\n",
        "#On one histogram, plot the B meson mass, from both the tree (pre-cuts) and the CutTree (post-cuts)\r\n",
        "#What do you notice about your histogram now?\r\n",
        "\r\n",
        "c7 = ROOT.TCanvas(\"Mass\",\"Mass\",800,600)\r\n",
        "tree.Draw(\"M_m0\" + \">>mass distribution Tree(5000,5000,6500)\")\r\n",
        "CutTree.Draw(\"M_m0\" + \">>mass distribution Cut Tree(5000,5000,6500)\")\r\n",
        "histograme1 = ROOT.gDirectory.Get(\"mass distribution Tree\")\r\n",
        "histograme2 = ROOT.gDirectory.Get(\"mass distribution Cut Tree\")\r\n",
        "histograme1.SetLineColor(1)\r\n",
        "histograme2.SetLineColor(2)\r\n",
        "histograme1.SetTitle(\"Mass Distribution B Meson\")\r\n",
        "histograme1.SetYTitle(\"Number of Events/ 1.5 MeV/c^2\")\r\n",
        "histograme1.SetXTitle(\"Mass in MeV/c^2\")\r\n",
        "histograme1.Draw()\r\n",
        "histograme2.Draw('Same')\r\n",
        "c7.Draw()\r\n",
        "#Make legend\r\n",
        "leg = ROOT.TLegend(0.5,0.85,.64,.7)\r\n",
        "leg.SetBorderSize(1)\r\n",
        "leg.SetFillColor(0)\r\n",
        "leg.SetFillStyle(0)\r\n",
        "leg.SetTextFont(42)\r\n",
        "leg.SetTextSize(0.035)\r\n",
        "leg.AddEntry(histograme1,\"All Data\",\"L\")\r\n",
        "leg.AddEntry(histograme2,\"Selection\",\"L\")\r\n",
        "leg.Draw()"
      ],
      "execution_count": 16,
      "outputs": [
        {
          "output_type": "display_data",
          "data": {
            "image/png": "[encoded data removed]",
            "text/plain": [
              "<IPython.core.display.Image object>"
            ]
          },
          "metadata": {
            "tags": []
          }
        }
      ]
    },
    {
      "cell_type": "markdown",
      "metadata": {
        "id": "N1tResqvcMgQ"
      },
      "source": [
        "#How do we count the number of events?\r\n",
        "\r\n",
        "We now have a histogram of events that we have reconstructed as a B meson. But some of these events are caused by a co-incidence of events which would still occur if there were no B mesons actually produced. We call this the background. Background and signal are indistinguishable now as the detector cannot tell the difference and our cuts were unable to remove the events for physics reasons. We can do some statistical analysis, if we know the approximate shapes of our signal and our background. Just like a least-squares fitting we can run a fit routine to minimise the error between the fitted curve and our data. As an example, if we know our data has an exponential background and a gaussian signal:\r\n",
        "\r\n",
        "![Gaussian+Exp Background](https://twiki.cern.ch/twiki/pub/RooStats/RooStatsTutorialsJune2013/GausExpModelFit.png)\r\n",
        "\r\n",
        "Here the red line represents our signal, the blue dotted line is our background and the solid blue line is our combined curve. The graph also shows the number of signal events and the number of background events. The signal now is a tiny fraction of the total data shown in the plot.\r\n",
        "\r\n",
        "In order to do this, we need to build a fit model, around which the software can try to fit our data.\r\n",
        "\r\n",
        "We use RooFit for this, which includes:\r\n",
        "* Gaussian\r\n",
        "* Exponential\r\n",
        "* Chebychev\r\n",
        "* Crystal Ball\r\n",
        "* Breit-Wigner\r\n",
        "\r\n",
        "As well as several other choices.\r\n",
        "\r\n",
        "Typically exponential and Chebychev functions are used for background and Gaussian, Crystal Ball and Breit-Wigner are used for signal. We can also combine them (e.g. 1 crystal ball, 1 gaussian, 1 exponential) in various ways."
      ]
    },
    {
      "cell_type": "markdown",
      "metadata": {
        "id": "jYgMGNEVrOp7"
      },
      "source": [
        "**Gauss & Exponential**"
      ]
    },
    {
      "cell_type": "code",
      "metadata": {
        "id": "R_7q_HY1qhiS"
      },
      "source": [
        "#define physical measurment that we want to fit using RooRealVar\r\n",
        "# var = ROOT.RooRealVar =(\"Variable from Python\", \"Nickname\",Min, Max, Units)\r\n",
        "mass = ROOT.RooRealVar(\"M_m0\",\"Mass\",5050,5900,\"MeV/C^{2}\")\r\n",
        "\r\n",
        "#passing the rest of the variables into the model\r\n",
        "#For the RooRealVar the last three parameters are given, \"starting value\" and min/max values\r\n",
        "gaussMean = ROOT.RooRealVar(\"Mean\",\"Mean\",5279,5000,5400)\r\n",
        "gaussWidth = ROOT.RooRealVar(\"Width\",\"Width\",40,0,70)\r\n",
        "\r\n",
        "#Now we have enough to make our Model for the signal:\r\n",
        "\r\n",
        "Gauss=ROOT.RooGaussian(\"Gaussian Signal\",\"Gauss\",mass,gaussMean,gaussWidth)\r\n",
        "Gauss_Norm= ROOT.RooRealVar(\"Gauss_Norm\",\"Signal Yield\", CutTree.GetEntries()/30, 0, CutTree.GetEntries() * 3)\r\n",
        "#We also need a background, so let's use a (simple) exponential:\r\n",
        "\r\n",
        "exponent=ROOT.RooRealVar(\"exponent\", \"C\", -0.02, -2, +2)\r\n",
        "exp_Norm= ROOT.RooRealVar(\"exp_Norm\",\"Background Yield\", CutTree.GetEntries()/30, 0, CutTree.GetEntries() * 2)\r\n",
        "\r\n",
        "#Define the  model for the background:\r\n",
        "\r\n",
        "Bkgnd=ROOT.RooExponential(\"Exponential Background\",\"Bkgnd\",mass,exponent)\r\n",
        "\r\n",
        "#Now we need to combine these two functions into a single PDF (probability density function)\r\n",
        "#and we need to add the normalisation factors at the end as scaling factors\r\n",
        "\r\n",
        "model=ROOT.RooAddPdf(\"Full Model\",\"model\",ROOT.RooArgList(Gauss,Bkgnd),ROOT.RooArgList(Gauss_Norm, exp_Norm) )"
      ],
      "execution_count": 17,
      "outputs": []
    },
    {
      "cell_type": "code",
      "metadata": {
        "id": "PL-qVvs-dw86",
        "colab": {
          "base_uri": "https://localhost:8080/"
        },
        "outputId": "d6ffe424-a7d0-4f53-f925-490cc98fd153"
      },
      "source": [
        "#Put our data set into a RooDataSet structure\r\n",
        "\r\n",
        "data_to_fit=ROOT.RooDataSet(\"Data Set\",\"data_to_fit\", CutTree, ROOT.RooArgSet(mass))\r\n",
        "\r\n",
        "#Then we can do the fitting:\r\n",
        "\r\n",
        "model.fitTo(data_to_fit)\r\n",
        "\r\n",
        "#if everything went well, you will see the outputs of RooFit below"
      ],
      "execution_count": 18,
      "outputs": [
        {
          "output_type": "execute_result",
          "data": {
            "text/plain": [
              "<ROOT.RooFitResult object at 0x(nil)>"
            ]
          },
          "metadata": {
            "tags": []
          },
          "execution_count": 18
        },
        {
          "output_type": "stream",
          "text": [
            "[#1] INFO:Eval -- RooAbsReal::attachToTree(M_m0) TTree Float_t branch M_m0 will be converted to double precision\n",
            "[#1] INFO:Eval -- RooTreeDataStore::loadValues(Data Set) Ignored 376 out of range events\n",
            "[#1] INFO:Minization -- p.d.f. provides expected number of events, including extended term in likelihood.\n",
            "[#1] INFO:Minization -- RooMinimizer::optimizeConst: activating const optimization\n",
            "[#1] INFO:Minization --  The following expressions will be evaluated in cache-and-track mode: (Gaussian Signal,Exponential Background)\n",
            " **********\n",
            " **    1 **SET PRINT           1\n",
            " **********\n",
            " **********\n",
            " **    2 **SET NOGRAD\n",
            " **********\n",
            " PARAMETER DEFINITIONS:\n",
            "    NO.   NAME         VALUE      STEP SIZE      LIMITS\n",
            "     1 Gauss_Norm   2.43000e+02  1.21500e+02    0.00000e+00  2.19120e+04\n",
            "     2 Mean         5.27900e+03  4.00000e+01    5.00000e+03  5.40000e+03\n",
            "     3 Width        4.00000e+01  7.00000e+00    0.00000e+00  7.00000e+01\n",
            "     4 exp_Norm     2.43000e+02  1.21500e+02    0.00000e+00  1.46080e+04\n",
            "     5 exponent    -2.00000e-02  4.00000e-01   -2.00000e+00  2.00000e+00\n",
            " **********\n",
            " **    3 **SET ERR         0.5\n",
            " **********\n",
            " **********\n",
            " **    4 **SET PRINT           1\n",
            " **********\n",
            " **********\n",
            " **    5 **SET STR           1\n",
            " **********\n",
            " NOW USING STRATEGY  1: TRY TO BALANCE SPEED AGAINST RELIABILITY\n",
            " **********\n",
            " **    6 **MIGRAD        2500           1\n",
            " **********\n",
            " FIRST CALL TO USER FUNCTION AT NEW START POINT, WITH IFLAG=4.\n",
            " START MIGRAD MINIMIZATION.  STRATEGY  1.  CONVERGENCE WHEN EDM .LT. 1.00e-03\n",
            " FCN=1003.99 FROM MIGRAD    STATUS=INITIATE       46 CALLS          47 TOTAL\n",
            "                     EDM= unknown      STRATEGY= 1      NO ERROR MATRIX       \n",
            "  EXT PARAMETER               CURRENT GUESS       STEP         FIRST   \n",
            "  NO.   NAME      VALUE            ERROR          SIZE      DERIVATIVE \n",
            "   1  Gauss_Norm   2.43000e+02   1.21500e+02   0.00000e+00  -4.64157e+04\n",
            "   2  Mean         5.27900e+03   4.00000e+01   0.00000e+00  -1.19576e+04\n",
            "   3  Width        2.10393e+01   7.00000e+00  -5.53641e-01   4.26958e+02\n",
            "   4  exp_Norm     2.43000e+02   1.21500e+02   0.00000e+00  -1.17384e+04\n",
            "   5  exponent    -2.00000e-02   4.00000e-01   0.00000e+00  -7.52792e+05\n",
            "                               ERR DEF= 0.5\n",
            "[#0] WARNING:Minization -- RooMinimizerFcn: Minimized function has error status.\n",
            "Returning maximum FCN so far (5187.79) to force MIGRAD to back out of this region. Error log follows\n",
            "Parameter values: Gauss_Norm=911.932, Mean=5285, Width=20.1529, exp_Norm=827.097, exponent=1.31978\n",
            "RooNLLVar::nll_Full Model_Data Set[ paramSet=(Gauss_Norm,Mean,Width,exp_Norm,exponent) ]\n",
            "     function value is NAN @ paramSet=(Gauss_Norm = 911.932,Mean = 5285,Width = 20.1529,exp_Norm = 827.097,exponent = 1.31978)\n",
            "RooAddPdf::Full Model[ Gauss_Norm * Gaussian Signal + exp_Norm * Exponential Background ]\n",
            "     p.d.f value is Not-a-Number (-nan), forcing value to zero @ !refCoefNorm=(), !pdfs=(Gaussian Signal = 0.0643337/50.5157,Exponential Background = inf/-nan), !coefficients=(Gauss_Norm = 911.932,exp_Norm = 827.097)\n",
            "     getLogVal() top-level p.d.f evaluates to zero @ !refCoefNorm=(), !pdfs=(Gaussian Signal = 0.0643337/50.5157,Exponential Background = inf/-nan), !coefficients=(Gauss_Norm = 911.932,exp_Norm = 827.097)\n",
            "     p.d.f value is Not-a-Number (-nan), forcing value to zero @ !refCoefNorm=(), !pdfs=(Gaussian Signal = 0.358554/50.5157,Exponential Background = inf/-nan), !coefficients=(Gauss_Norm = 911.932,exp_Norm = 827.097)\n",
            "     getLogVal() top-level p.d.f evaluates to zero @ !refCoefNorm=(), !pdfs=(Gaussian Signal = 0.358554/50.5157,Exponential Background = inf/-nan), !coefficients=(Gauss_Norm = 911.932,exp_Norm = 827.097)\n",
            "     p.d.f value is Not-a-Number (-nan), forcing value to zero @ !refCoefNorm=(), !pdfs=(Gaussian Signal = 0.00259445/50.5157,Exponential Background = inf/-nan), !coefficients=(Gauss_Norm = 911.932,exp_Norm = 827.097)\n",
            "     getLogVal() top-level p.d.f evaluates to zero @ !refCoefNorm=(), !pdfs=(Gaussian Signal = 0.00259445/50.5157,Exponential Background = inf/-nan), !coefficients=(Gauss_Norm = 911.932,exp_Norm = 827.097)\n",
            "     p.d.f value is Not-a-Number (-nan), forcing value to zero @ !refCoefNorm=(), !pdfs=(Gaussian Signal = 0.641592/50.5157,Exponential Background = inf/-nan), !coefficients=(Gauss_Norm = 911.932,exp_Norm = 827.097)\n",
            "     getLogVal() top-level p.d.f evaluates to zero @ !refCoefNorm=(), !pdfs=(Gaussian Signal = 0.641592/50.5157,Exponential Background = inf/-nan), !coefficients=(Gauss_Norm = 911.932,exp_Norm = 827.097)\n",
            "     p.d.f value is Not-a-Number (-nan), forcing value to zero @ !refCoefNorm=(), !pdfs=(Gaussian Signal = 2.17471e-29/50.5157,Exponential Background = inf/-nan), !coefficients=(Gauss_Norm = 911.932,exp_Norm = 827.097)\n",
            "     getLogVal() top-level p.d.f evaluates to zero @ !refCoefNorm=(), !pdfs=(Gaussian Signal = 2.17471e-29/50.5157,Exponential Background = inf/-nan), !coefficients=(Gauss_Norm = 911.932,exp_Norm = 827.097)\n",
            "     p.d.f value is Not-a-Number (-nan), forcing value to zero @ !refCoefNorm=(), !pdfs=(Gaussian Signal = 0.934221/50.5157,Exponential Background = inf/-nan), !coefficients=(Gauss_Norm = 911.932,exp_Norm = 827.097)\n",
            "     getLogVal() top-level p.d.f evaluates to zero @ !refCoefNorm=(), !pdfs=(Gaussian Signal = 0.934221/50.5157,Exponential Background = inf/-nan), !coefficients=(Gauss_Norm = 911.932,exp_Norm = 827.097)\n",
            "    ... (remaining 2038 messages suppressed)\n",
            "RooRealIntegral::Exponential Background_Int[M_m0][ Int Exponential Backgroundd[Ana](M_m0) ]\n",
            "     function value is NAN @ !sumList=(), !intList=(), !anaList=(M_m0 = 5323.05), !jacList=(), !facList=(), !func=Exponential Background=inf/5.49192e-43, !sumCat=()\n",
            "\n",
            "[#0] WARNING:Minization -- RooMinimizerFcn: Minimized function has error status.\n",
            "Returning maximum FCN so far (5187.79) to force MIGRAD to back out of this region. Error log follows\n",
            "Parameter values: Gauss_Norm=522.944, Mean=5281.99, Width=20.5979, exp_Norm=491.036, exponent=0.690745\n",
            "RooNLLVar::nll_Full Model_Data Set[ paramSet=(Gauss_Norm,Mean,Width,exp_Norm,exponent) ]\n",
            "     function value is NAN @ paramSet=(Gauss_Norm = 522.944,Mean = 5281.99,Width = 20.5979,exp_Norm = 491.036,exponent = 0.690745)\n",
            "RooAddPdf::Full Model[ Gauss_Norm * Gaussian Signal + exp_Norm * Exponential Background ]\n",
            "     p.d.f value is Not-a-Number (-nan), forcing value to zero @ !refCoefNorm=(), !pdfs=(Gaussian Signal = 0.10008/51.6314,Exponential Background = inf/-nan), !coefficients=(Gauss_Norm = 522.944,exp_Norm = 491.036)\n",
            "     getLogVal() top-level p.d.f evaluates to zero @ !refCoefNorm=(), !pdfs=(Gaussian Signal = 0.10008/51.6314,Exponential Background = inf/-nan), !coefficients=(Gauss_Norm = 522.944,exp_Norm = 491.036)\n",
            "     p.d.f value is Not-a-Number (-nan), forcing value to zero @ !refCoefNorm=(), !pdfs=(Gaussian Signal = 0.45497/51.6314,Exponential Background = inf/-nan), !coefficients=(Gauss_Norm = 522.944,exp_Norm = 491.036)\n",
            "     getLogVal() top-level p.d.f evaluates to zero @ !refCoefNorm=(), !pdfs=(Gaussian Signal = 0.45497/51.6314,Exponential Background = inf/-nan), !coefficients=(Gauss_Norm = 522.944,exp_Norm = 491.036)\n",
            "     p.d.f value is Not-a-Number (-nan), forcing value to zero @ !refCoefNorm=(), !pdfs=(Gaussian Signal = 0.00202036/51.6314,Exponential Background = inf/-nan), !coefficients=(Gauss_Norm = 522.944,exp_Norm = 491.036)\n",
            "     getLogVal() top-level p.d.f evaluates to zero @ !refCoefNorm=(), !pdfs=(Gaussian Signal = 0.00202036/51.6314,Exponential Background = inf/-nan), !coefficients=(Gauss_Norm = 522.944,exp_Norm = 491.036)\n",
            "     p.d.f value is Not-a-Number (-nan), forcing value to zero @ !refCoefNorm=(), !pdfs=(Gaussian Signal = 0.565309/51.6314,Exponential Background = inf/-nan), !coefficients=(Gauss_Norm = 522.944,exp_Norm = 491.036)\n",
            "     getLogVal() top-level p.d.f evaluates to zero @ !refCoefNorm=(), !pdfs=(Gaussian Signal = 0.565309/51.6314,Exponential Background = inf/-nan), !coefficients=(Gauss_Norm = 522.944,exp_Norm = 491.036)\n",
            "     p.d.f value is Not-a-Number (-nan), forcing value to zero @ !refCoefNorm=(), !pdfs=(Gaussian Signal = 1.87172e-27/51.6314,Exponential Background = inf/-nan), !coefficients=(Gauss_Norm = 522.944,exp_Norm = 491.036)\n",
            "     getLogVal() top-level p.d.f evaluates to zero @ !refCoefNorm=(), !pdfs=(Gaussian Signal = 1.87172e-27/51.6314,Exponential Background = inf/-nan), !coefficients=(Gauss_Norm = 522.944,exp_Norm = 491.036)\n",
            "     p.d.f value is Not-a-Number (-nan), forcing value to zero @ !refCoefNorm=(), !pdfs=(Gaussian Signal = 0.879293/51.6314,Exponential Background = inf/-nan), !coefficients=(Gauss_Norm = 522.944,exp_Norm = 491.036)\n",
            "     getLogVal() top-level p.d.f evaluates to zero @ !refCoefNorm=(), !pdfs=(Gaussian Signal = 0.879293/51.6314,Exponential Background = inf/-nan), !coefficients=(Gauss_Norm = 522.944,exp_Norm = 491.036)\n",
            "    ... (remaining 2038 messages suppressed)\n",
            "RooRealIntegral::Exponential Background_Int[M_m0][ Int Exponential Backgroundd[Ana](M_m0) ]\n",
            "     function value is NAN @ !sumList=(), !intList=(), !anaList=(M_m0 = 5323.05), !jacList=(), !facList=(), !func=Exponential Background=inf/-nan, !sumCat=()\n",
            "\n",
            "[#0] WARNING:Minization -- RooMinimizerFcn: Minimized function has error status.\n",
            "Returning maximum FCN so far (5187.79) to force MIGRAD to back out of this region. Error log follows\n",
            "Parameter values: Gauss_Norm=367.886, Mean=5280.48, Width=20.8215, exp_Norm=354.663, exponent=0.335682\n",
            "RooNLLVar::nll_Full Model_Data Set[ paramSet=(Gauss_Norm,Mean,Width,exp_Norm,exponent) ]\n",
            "     function value is NAN @ paramSet=(Gauss_Norm = 367.886,Mean = 5280.48,Width = 20.8215,exp_Norm = 354.663,exponent = 0.335682)\n",
            "RooAddPdf::Full Model[ Gauss_Norm * Gaussian Signal + exp_Norm * Exponential Background ]\n",
            "     p.d.f value is Not-a-Number (-nan), forcing value to zero @ !refCoefNorm=(), !pdfs=(Gaussian Signal = 0.122355/52.1918,Exponential Background = inf/-nan), !coefficients=(Gauss_Norm = 367.886,exp_Norm = 354.663)\n",
            "     getLogVal() top-level p.d.f evaluates to zero @ !refCoefNorm=(), !pdfs=(Gaussian Signal = 0.122355/52.1918,Exponential Background = inf/-nan), !coefficients=(Gauss_Norm = 367.886,exp_Norm = 354.663)\n",
            "     p.d.f value is Not-a-Number (-nan), forcing value to zero @ !refCoefNorm=(), !pdfs=(Gaussian Signal = 0.505093/52.1918,Exponential Background = inf/-nan), !coefficients=(Gauss_Norm = 367.886,exp_Norm = 354.663)\n",
            "     getLogVal() top-level p.d.f evaluates to zero @ !refCoefNorm=(), !pdfs=(Gaussian Signal = 0.505093/52.1918,Exponential Background = inf/-nan), !coefficients=(Gauss_Norm = 367.886,exp_Norm = 354.663)\n",
            "     p.d.f value is Not-a-Number (-nan), forcing value to zero @ !refCoefNorm=(), !pdfs=(Gaussian Signal = 0.00178532/52.1918,Exponential Background = inf/-nan), !coefficients=(Gauss_Norm = 367.886,exp_Norm = 354.663)\n",
            "     getLogVal() top-level p.d.f evaluates to zero @ !refCoefNorm=(), !pdfs=(Gaussian Signal = 0.00178532/52.1918,Exponential Background = inf/-nan), !coefficients=(Gauss_Norm = 367.886,exp_Norm = 354.663)\n",
            "     p.d.f value is Not-a-Number (-nan), forcing value to zero @ !refCoefNorm=(), !pdfs=(Gaussian Signal = 0.528492/52.1918,Exponential Background = inf/-nan), !coefficients=(Gauss_Norm = 367.886,exp_Norm = 354.663)\n",
            "     getLogVal() top-level p.d.f evaluates to zero @ !refCoefNorm=(), !pdfs=(Gaussian Signal = 0.528492/52.1918,Exponential Background = inf/-nan), !coefficients=(Gauss_Norm = 367.886,exp_Norm = 354.663)\n",
            "     p.d.f value is Not-a-Number (-nan), forcing value to zero @ !refCoefNorm=(), !pdfs=(Gaussian Signal = 1.54467e-26/52.1918,Exponential Background = inf/-nan), !coefficients=(Gauss_Norm = 367.886,exp_Norm = 354.663)\n",
            "     getLogVal() top-level p.d.f evaluates to zero @ !refCoefNorm=(), !pdfs=(Gaussian Signal = 1.54467e-26/52.1918,Exponential Background = inf/-nan), !coefficients=(Gauss_Norm = 367.886,exp_Norm = 354.663)\n",
            "     p.d.f value is Not-a-Number (-nan), forcing value to zero @ !refCoefNorm=(), !pdfs=(Gaussian Signal = 0.847854/52.1918,Exponential Background = inf/-nan), !coefficients=(Gauss_Norm = 367.886,exp_Norm = 354.663)\n",
            "     getLogVal() top-level p.d.f evaluates to zero @ !refCoefNorm=(), !pdfs=(Gaussian Signal = 0.847854/52.1918,Exponential Background = inf/-nan), !coefficients=(Gauss_Norm = 367.886,exp_Norm = 354.663)\n",
            "    ... (remaining 2038 messages suppressed)\n",
            "RooRealIntegral::Exponential Background_Int[M_m0][ Int Exponential Backgroundd[Ana](M_m0) ]\n",
            "     function value is NAN @ !sumList=(), !intList=(), !anaList=(M_m0 = 5323.05), !jacList=(), !facList=(), !func=Exponential Background=inf/-nan, !sumCat=()\n",
            "\n",
            "[#0] WARNING:Minization -- RooMinimizerFcn: Minimized function has error status.\n",
            "Returning maximum FCN so far (5187.79) to force MIGRAD to back out of this region. Error log follows\n",
            "Parameter values: Gauss_Norm=300.421, Mean=5279.72, Width=20.9335, exp_Norm=294.608, exponent=0.153212\n",
            "RooNLLVar::nll_Full Model_Data Set[ paramSet=(Gauss_Norm,Mean,Width,exp_Norm,exponent) ]\n",
            "     function value is NAN @ paramSet=(Gauss_Norm = 300.421,Mean = 5279.72,Width = 20.9335,exp_Norm = 294.608,exponent = 0.153212)\n",
            "RooAddPdf::Full Model[ Gauss_Norm * Gaussian Signal + exp_Norm * Exponential Background ]\n",
            "     p.d.f value is Not-a-Number (-nan), forcing value to zero @ !refCoefNorm=(), !pdfs=(Gaussian Signal = 0.134645/52.4726,Exponential Background = inf/-nan), !coefficients=(Gauss_Norm = 300.421,exp_Norm = 294.608)\n",
            "     getLogVal() top-level p.d.f evaluates to zero @ !refCoefNorm=(), !pdfs=(Gaussian Signal = 0.134645/52.4726,Exponential Background = inf/-nan), !coefficients=(Gauss_Norm = 300.421,exp_Norm = 294.608)\n",
            "     p.d.f value is Not-a-Number (-nan), forcing value to zero @ !refCoefNorm=(), !pdfs=(Gaussian Signal = 0.530351/52.4726,Exponential Background = inf/-nan), !coefficients=(Gauss_Norm = 300.421,exp_Norm = 294.608)\n",
            "     getLogVal() top-level p.d.f evaluates to zero @ !refCoefNorm=(), !pdfs=(Gaussian Signal = 0.530351/52.4726,Exponential Background = inf/-nan), !coefficients=(Gauss_Norm = 300.421,exp_Norm = 294.608)\n",
            "     p.d.f value is Not-a-Number (-nan), forcing value to zero @ !refCoefNorm=(), !pdfs=(Gaussian Signal = 0.00167888/52.4726,Exponential Background = inf/-nan), !coefficients=(Gauss_Norm = 300.421,exp_Norm = 294.608)\n",
            "     getLogVal() top-level p.d.f evaluates to zero @ !refCoefNorm=(), !pdfs=(Gaussian Signal = 0.00167888/52.4726,Exponential Background = inf/-nan), !coefficients=(Gauss_Norm = 300.421,exp_Norm = 294.608)\n",
            "     p.d.f value is Not-a-Number (-nan), forcing value to zero @ !refCoefNorm=(), !pdfs=(Gaussian Signal = 0.510522/52.4726,Exponential Background = inf/-nan), !coefficients=(Gauss_Norm = 300.421,exp_Norm = 294.608)\n",
            "     getLogVal() top-level p.d.f evaluates to zero @ !refCoefNorm=(), !pdfs=(Gaussian Signal = 0.510522/52.4726,Exponential Background = inf/-nan), !coefficients=(Gauss_Norm = 300.421,exp_Norm = 294.608)\n",
            "     p.d.f value is Not-a-Number (-nan), forcing value to zero @ !refCoefNorm=(), !pdfs=(Gaussian Signal = 4.31347e-26/52.4726,Exponential Background = inf/-nan), !coefficients=(Gauss_Norm = 300.421,exp_Norm = 294.608)\n",
            "     getLogVal() top-level p.d.f evaluates to zero @ !refCoefNorm=(), !pdfs=(Gaussian Signal = 4.31347e-26/52.4726,Exponential Background = inf/-nan), !coefficients=(Gauss_Norm = 300.421,exp_Norm = 294.608)\n",
            "     p.d.f value is Not-a-Number (-nan), forcing value to zero @ !refCoefNorm=(), !pdfs=(Gaussian Signal = 0.831378/52.4726,Exponential Background = inf/-nan), !coefficients=(Gauss_Norm = 300.421,exp_Norm = 294.608)\n",
            "     getLogVal() top-level p.d.f evaluates to zero @ !refCoefNorm=(), !pdfs=(Gaussian Signal = 0.831378/52.4726,Exponential Background = inf/-nan), !coefficients=(Gauss_Norm = 300.421,exp_Norm = 294.608)\n",
            "    ... (remaining 2038 messages suppressed)\n",
            "RooRealIntegral::Exponential Background_Int[M_m0][ Int Exponential Backgroundd[Ana](M_m0) ]\n",
            "     function value is NAN @ !sumList=(), !intList=(), !anaList=(M_m0 = 5323.05), !jacList=(), !facList=(), !func=Exponential Background=inf/-nan, !sumCat=()\n",
            "\n",
            " MIGRAD MINIMIZATION HAS CONVERGED.\n",
            " MIGRAD WILL VERIFY CONVERGENCE AND ERROR MATRIX.\n",
            " COVARIANCE MATRIX CALCULATED SUCCESSFULLY\n",
            " FCN=-16912.3 FROM MIGRAD    STATUS=CONVERGED     222 CALLS         223 TOTAL\n",
            "                     EDM=2.14067e-05    STRATEGY= 1      ERROR MATRIX ACCURATE \n",
            "  EXT PARAMETER                                   STEP         FIRST   \n",
            "  NO.   NAME      VALUE            ERROR          SIZE      DERIVATIVE \n",
            "   1  Gauss_Norm   4.80952e+03   7.26476e+01   7.09643e-04  -3.40325e-02\n",
            "   2  Mean         5.28471e+03   2.76098e-01   1.36648e-04  -1.54781e+00\n",
            "   3  Width        1.73452e+01   2.26320e-01   6.57545e-04  -3.61340e-01\n",
            "   4  exp_Norm     2.11857e+03   5.08614e+01   8.68610e-04   2.54729e-01\n",
            "   5  exponent    -3.08027e-03   1.03835e-04   4.65676e-06   1.02692e+01\n",
            "                               ERR DEF= 0.5\n",
            " EXTERNAL ERROR MATRIX.    NDIM=  25    NPAR=  5    ERR DEF=0.5\n",
            "  5.278e+03 -3.601e-01  2.045e+00 -4.681e+02  1.352e-04 \n",
            " -3.601e-01  7.623e-02 -2.690e-03  3.601e-01 -7.941e-07 \n",
            "  2.045e+00 -2.690e-03  5.122e-02 -2.045e+00  6.507e-07 \n",
            " -4.681e+02  3.601e-01 -2.045e+00  2.587e+03 -1.352e-04 \n",
            "  1.352e-04 -7.941e-07  6.507e-07 -1.352e-04  1.078e-08 \n",
            " PARAMETER  CORRELATION COEFFICIENTS  \n",
            "       NO.  GLOBAL      1      2      3      4      5\n",
            "        1  0.16438   1.000 -0.018  0.124 -0.127  0.018\n",
            "        2  0.05459  -0.018  1.000 -0.043  0.026 -0.028\n",
            "        3  0.20953   0.124 -0.043  1.000 -0.178  0.028\n",
            "        4  0.20808  -0.127  0.026 -0.178  1.000 -0.026\n",
            "        5  0.04516   0.018 -0.028  0.028 -0.026  1.000\n",
            " **********\n",
            " **    7 **SET ERR         0.5\n",
            " **********\n",
            " **********\n",
            " **    8 **SET PRINT           1\n",
            " **********\n",
            " **********\n",
            " **    9 **HESSE        2500\n",
            " **********\n",
            " COVARIANCE MATRIX CALCULATED SUCCESSFULLY\n",
            " FCN=-16912.3 FROM HESSE     STATUS=OK             31 CALLS         254 TOTAL\n",
            "                     EDM=2.13973e-05    STRATEGY= 1      ERROR MATRIX ACCURATE \n",
            "  EXT PARAMETER                                INTERNAL      INTERNAL  \n",
            "  NO.   NAME      VALUE            ERROR       STEP SIZE       VALUE   \n",
            "   1  Gauss_Norm   4.80952e+03   7.26502e+01   2.83857e-05  -5.95612e-01\n",
            "   2  Mean         5.28471e+03   2.76107e-01   2.73296e-05   4.37382e-01\n",
            "   3  Width        1.73452e+01   2.26345e-01   1.31509e-04  -5.28713e-01\n",
            "   4  exp_Norm     2.11857e+03   5.08648e+01   1.73722e-04  -7.89419e-01\n",
            "   5  exponent    -3.08027e-03   1.03834e-04   9.31352e-07  -1.54014e-03\n",
            "                               ERR DEF= 0.5\n",
            " EXTERNAL ERROR MATRIX.    NDIM=  25    NPAR=  5    ERR DEF=0.5\n",
            "  5.278e+03 -3.609e-01  2.049e+00 -4.687e+02  1.345e-04 \n",
            " -3.609e-01  7.624e-02 -2.741e-03  3.608e-01 -7.938e-07 \n",
            "  2.049e+00 -2.741e-03  5.123e-02 -2.049e+00  6.485e-07 \n",
            " -4.687e+02  3.608e-01 -2.049e+00  2.587e+03 -1.345e-04 \n",
            "  1.345e-04 -7.938e-07  6.485e-07 -1.345e-04  1.078e-08 \n",
            " PARAMETER  CORRELATION COEFFICIENTS  \n",
            "       NO.  GLOBAL      1      2      3      4      5\n",
            "        1  0.16460   1.000 -0.018  0.125 -0.127  0.018\n",
            "        2  0.05517  -0.018  1.000 -0.044  0.026 -0.028\n",
            "        3  0.21003   0.125 -0.044  1.000 -0.178  0.028\n",
            "        4  0.20838  -0.127  0.026 -0.178  1.000 -0.025\n",
            "        5  0.04501   0.018 -0.028  0.028 -0.025  1.000\n",
            "[#1] INFO:Minization -- RooMinimizer::optimizeConst: deactivating const optimization\n"
          ],
          "name": "stdout"
        }
      ]
    },
    {
      "cell_type": "code",
      "metadata": {
        "id": "bUhgxlRGd4XO",
        "colab": {
          "base_uri": "https://localhost:8080/",
          "height": 556
        },
        "outputId": "39411fd8-bfcd-4093-df46-2e4e33829b4b"
      },
      "source": [
        "#Now to plot it all\r\n",
        "c8=ROOT.TCanvas(\"c8\",\"c8\")\r\n",
        "frame=mass.frame()\r\n",
        "data_to_fit.plotOn(frame)\r\n",
        "model.plotOn(frame, ROOT.RooFit.Components(\"Gaussian Signal\"),ROOT.RooFit.LineColor(8),ROOT.RooFit.LineStyle(2))\r\n",
        "model.plotOn(frame, ROOT.RooFit.Components(\"Exponential Background\"),ROOT.RooFit.LineColor(46),ROOT.RooFit.LineStyle(2))\r\n",
        "model.plotOn(frame)\r\n",
        "frame.SetTitle(\"B Meson Mass Plot - Gauss & Exponential fitting\")\r\n",
        "frame.Draw()\r\n",
        "c8.Update()\r\n",
        "c8.Draw()"
      ],
      "execution_count": 19,
      "outputs": [
        {
          "output_type": "stream",
          "text": [
            "[#1] INFO:Plotting -- RooAbsPdf::plotOn(Full Model) directly selected PDF components: (Gaussian Signal)\n",
            "[#1] INFO:Plotting -- RooAbsPdf::plotOn(Full Model) indirectly selected PDF components: ()\n",
            "[#1] INFO:Plotting -- RooAbsPdf::plotOn(Full Model) directly selected PDF components: (Exponential Background)\n",
            "[#1] INFO:Plotting -- RooAbsPdf::plotOn(Full Model) indirectly selected PDF components: ()\n"
          ],
          "name": "stdout"
        },
        {
          "output_type": "display_data",
          "data": {
            "image/png": "[encoded data removed]",
            "text/plain": [
              "<IPython.core.display.Image object>"
            ]
          },
          "metadata": {
            "tags": []
          }
        }
      ]
    },
    {
      "cell_type": "code",
      "metadata": {
        "id": "ZxMxNhECUwF5",
        "colab": {
          "base_uri": "https://localhost:8080/"
        },
        "outputId": "7d0f9330-7a52-4791-e1f8-1017fe7764ea"
      },
      "source": [
        "#printing fitting results\r\n",
        "Signal_yield = Gauss_Norm.getValV()\r\n",
        "Signal_Error = Gauss_Norm.getError()\r\n",
        "x2 = frame.chiSquare()\r\n",
        "\r\n",
        "print(\"Signal yield \"+ str(Signal_yield))\r\n",
        "print(\"Signal_Error \"+ str(Signal_Error))\r\n",
        "print(\"x^2 \"+ str(x2))"
      ],
      "execution_count": 20,
      "outputs": [
        {
          "output_type": "stream",
          "text": [
            "Signal yield 4809.51852237\n",
            "Signal_Error 72.6502334582\n",
            "x^2 2.38088939686\n"
          ],
          "name": "stdout"
        }
      ]
    },
    {
      "cell_type": "markdown",
      "metadata": {
        "id": "60b4bs1od4M_"
      },
      "source": [
        "Using this structure, you can in theory build whatever models you like!\r\n",
        "\r\n",
        "Some recommendations (but not necessary to do all):-\r\n",
        "\r\n",
        "\r\n",
        "\r\n",
        "*   Gauss+Exponential (as above)\r\n",
        "*   Crystal Ball + Exponential\r\n",
        "*   Gauss+Crystal Ball+Exponential (now you need to weigh the two signal peaks and then the total signal against total background)\r\n",
        "*   Gauss+Chebychev\r\n",
        "*   Two Crystal Balls + Exponential"
      ]
    },
    {
      "cell_type": "markdown",
      "metadata": {
        "id": "UVqC--W3rZfe"
      },
      "source": [
        " **Crystal Ball and Gauss and Exponential**"
      ]
    },
    {
      "cell_type": "code",
      "metadata": {
        "id": "dkl2dagAdDIF"
      },
      "source": [
        "#define physical measurment that we want to fit using RooRealVar\r\n",
        "# var = ROOT.RooRealVar =(\"Variable from Python\", \"Nickname\",Min, Max, Units)\r\n",
        "mass = ROOT.RooRealVar(\"M_m0\",\"Mass\",5000,5500,\"MeV/C^{2}\")\r\n",
        "gaussMean = ROOT.RooRealVar(\"Mean\",\"Mean\",5300,5200,5350)\r\n",
        "gaussWidth = ROOT.RooRealVar(\"Width\",\"Width\",20,0,50)\r\n",
        "\r\n",
        "\r\n",
        "Gauss=ROOT.RooGaussian(\"Gaussian Signal\",\"Gauss\",mass,gaussMean,gaussWidth)\r\n",
        "Gauss_Norm= ROOT.RooRealVar(\"Gauss_Norm\",\"Signal Yield\", CutTree.GetEntries()/30, 0, CutTree.GetEntries() * 3)\r\n",
        "#passing the rest of the variables into the model\r\n",
        "#For the RooRealVar the last three parameters are given, \"starting value\" and min/max values\r\n",
        "cbMean = ROOT.RooRealVar(\"Mean\",\"Mean\",5200,5100,5350)\r\n",
        "cbWidth = ROOT.RooRealVar(\"Width\",\"Width\",20,0,60)\r\n",
        "cbAlpha = ROOT.RooRealVar(\"Alpha\",\"Alpha\",10,0,25)\r\n",
        "cbN = ROOT.RooRealVar(\"N\",\"N\",2,0,8)\r\n",
        "\r\n",
        "#Now we have enough to make our Model for the signal:\r\n",
        "\r\n",
        "CB=ROOT.RooCBShape(\"Crystal Ball\",\"CB\", mass, cbMean, cbWidth, cbAlpha, cbN )\r\n",
        "CB_Norm= ROOT.RooRealVar(\"CB Norm\",\"CB Norm\", CutTree.GetEntries()/30, 0, CutTree.GetEntries() * 3)\r\n",
        "#We also need a background, so let's use a (simple) exponential:\r\n",
        "\r\n",
        "exponent=ROOT.RooRealVar(\"exponent\", \"C\", -0.02, -2, +2)\r\n",
        "exp_Norm= ROOT.RooRealVar(\"exp_Norm\",\"Background Yield\", CutTree.GetEntries()/30, 0, CutTree.GetEntries() * 2)\r\n",
        "\r\n",
        "#Define the  model for the background:\r\n",
        "\r\n",
        "Bkgnd=ROOT.RooExponential(\"Exponential Background\",\"Bkgnd\",mass,exponent)\r\n",
        "\r\n",
        "#Weighing two Signal Peaks against each other\r\n",
        "\r\n",
        "combine_norm=ROOT.RooRealVar(\"combined norm\", \"combined_norm\", 0.5, 0, 1)\r\n",
        "combined_signal=ROOT.RooAddPdf(\"Combined Signal\", \"combined_signal\", Gauss, CB, combine_norm)\r\n",
        "combined_signal_norm=ROOT.RooRealVar(\"combined_signal_norm\",\"combined signal norm\", CutTree.GetEntries()/30, 0, CutTree.GetEntries() * 3)"
      ],
      "execution_count": 21,
      "outputs": []
    },
    {
      "cell_type": "code",
      "metadata": {
        "id": "azTZ8CKRdWPm",
        "colab": {
          "base_uri": "https://localhost:8080/"
        },
        "outputId": "d50af384-c9b3-47be-9a0e-998e05ab00fd"
      },
      "source": [
        "#Put our data set into a RooDataSet structure\r\n",
        "model=ROOT.RooAddPdf(\"Full Model\",\"model\",ROOT.RooArgList(combined_signal, Bkgnd),ROOT.RooArgList(combined_signal_norm, exp_Norm) )\r\n",
        "data_to_fit=ROOT.RooDataSet(\"Data Set\",\"data_to_fit\", CutTree, ROOT.RooArgSet(mass))\r\n",
        "\r\n",
        "#Then we can do the fitting:\r\n",
        "\r\n",
        "model.fitTo(data_to_fit)\r\n",
        "\r\n",
        "#if everything went well, you will see the outputs of RooFit below"
      ],
      "execution_count": 22,
      "outputs": [
        {
          "output_type": "execute_result",
          "data": {
            "text/plain": [
              "<ROOT.RooFitResult object at 0x(nil)>"
            ]
          },
          "metadata": {
            "tags": []
          },
          "execution_count": 22
        },
        {
          "output_type": "stream",
          "text": [
            "[#1] INFO:Eval -- RooAbsReal::attachToTree(M_m0) TTree Float_t branch M_m0 will be converted to double precision\n",
            "[#1] INFO:Eval -- RooTreeDataStore::loadValues(Data Set) Ignored 825 out of range events\n",
            "[#1] INFO:Minization -- p.d.f. provides expected number of events, including extended term in likelihood.\n",
            "[#1] INFO:Minization -- RooMinimizer::optimizeConst: activating const optimization\n",
            "[#1] INFO:Minization --  The following expressions will be evaluated in cache-and-track mode: (Gaussian Signal,Crystal Ball,Exponential Background)\n",
            " **********\n",
            " **    1 **SET PRINT           1\n",
            " **********\n",
            " **********\n",
            " **    2 **SET NOGRAD\n",
            " **********\n",
            " PARAMETER DEFINITIONS:\n",
            "    NO.   NAME         VALUE      STEP SIZE      LIMITS\n",
            "     1 Alpha        1.00000e+01  2.50000e+00    0.00000e+00  2.50000e+01\n",
            "     2 Mean         5.30000e+03  1.50000e+01    5.20000e+03  5.35000e+03\n",
            "     3 N            2.00000e+00  8.00000e-01    0.00000e+00  8.00000e+00\n",
            "     4 Width        2.00000e+01  5.00000e+00    0.00000e+00  5.00000e+01\n",
            "     5 combined norm   5.00000e-01  1.00000e-01    0.00000e+00  1.00000e+00\n",
            "     6 combined_signal_norm   2.43000e+02  1.21500e+02    0.00000e+00  2.19120e+04\n",
            "     7 exp_Norm     2.43000e+02  1.21500e+02    0.00000e+00  1.46080e+04\n",
            "     8 exponent    -2.00000e-02  4.00000e-01   -2.00000e+00  2.00000e+00\n",
            " **********\n",
            " **    3 **SET ERR         0.5\n",
            " **********\n",
            " **********\n",
            " **    4 **SET PRINT           1\n",
            " **********\n",
            " **********\n",
            " **    5 **SET STR           1\n",
            " **********\n",
            " NOW USING STRATEGY  1: TRY TO BALANCE SPEED AGAINST RELIABILITY\n",
            " **********\n",
            " **    6 **MIGRAD        4000           1\n",
            " **********\n",
            " FIRST CALL TO USER FUNCTION AT NEW START POINT, WITH IFLAG=4.\n",
            " START MIGRAD MINIMIZATION.  STRATEGY  1.  CONVERGENCE WHEN EDM .LT. 1.00e-03\n",
            " FCN=-4435.25 FROM MIGRAD    STATUS=INITIATE      490 CALLS         491 TOTAL\n",
            "                     EDM= unknown      STRATEGY= 1      NO ERROR MATRIX       \n",
            "  EXT PARAMETER               CURRENT GUESS       STEP         FIRST   \n",
            "  NO.   NAME      VALUE            ERROR          SIZE      DERIVATIVE \n",
            "   1  Alpha        1.00000e+01   2.50000e+00   0.00000e+00  -3.54647e-08\n",
            "   2  Mean         5.30000e+03   1.50000e+01   0.00000e+00   9.17424e+03\n",
            "   3  N            2.00000e+00   8.00000e-01   0.00000e+00   0.00000e+00\n",
            "   4  Width        2.00000e+01   5.00000e+00   0.00000e+00  -4.59298e+02\n",
            "   5  combined norm   5.00000e-01   1.00000e-01   0.00000e+00   2.52985e-08\n",
            "   6  combined_signal_norm   2.43000e+02   1.21500e+02   0.00000e+00  -3.80009e+04\n",
            "   7  exp_Norm     2.43000e+02   1.21500e+02   0.00000e+00  -1.51376e+04\n",
            "   8  exponent    -2.63600e-03   4.00000e-01   0.00000e+00  -8.58225e+04\n",
            "                               ERR DEF= 0.5\n",
            " MIGRAD MINIMIZATION HAS CONVERGED.\n",
            " MIGRAD WILL VERIFY CONVERGENCE AND ERROR MATRIX.\n",
            " MINUIT WARNING IN HESSE\n",
            " ============== Second derivative enters zero, param 3\n",
            " MINUIT WARNING IN HESSE\n",
            " ============== Second derivative zero for parameter3\n",
            "  MNHESS FAILS AND WILL RETURN DIAGONAL MATRIX. \n",
            " FCN=-17023.9 FROM MIGRAD    STATUS=CONVERGED     729 CALLS         730 TOTAL\n",
            "                     EDM=7.04668e-05    STRATEGY= 1  ERROR MATRIX UNCERTAINTY 100.0 per cent\n",
            "  EXT PARAMETER                APPROXIMATE        STEP         FIRST   \n",
            "  NO.   NAME      VALUE            ERROR          SIZE      DERIVATIVE \n",
            "   1  Alpha        1.27651e+01   1.05160e+01   5.00000e-01  -4.11092e-09\n",
            "   2  Mean         5.28462e+03   2.76433e-01   3.34861e-04  -8.39642e-03\n",
            "   3  N            2.00000e+00   1.11136e+00   1.46400e-09   0.00000e+00\n",
            "   4  Width        1.77253e+01   2.22621e-01  -2.37656e-05  -6.74321e-03\n",
            "   5  combined norm   5.00000e-01   4.20735e-01  -2.88603e-08   2.90020e-08\n",
            "   6  combined_signal_norm   4.89161e+03   7.18708e+01   1.19593e-05  -7.98162e-03\n",
            "   7  exp_Norm     1.58738e+03   4.35587e+01   3.56189e-05  -1.47253e-02\n",
            "   8  exponent    -2.58071e-03   1.87631e-04  -3.02697e-07   9.13925e-01\n",
            "                               ERR DEF= 0.5\n",
            " EXTERNAL ERROR MATRIX.    NDIM=  25    NPAR=  8    ERR DEF=0.5\n",
            "  1.562e+02  0.000e+00  0.000e+00  0.000e+00  0.000e+00  0.000e+00  0.000e+00  0.000e+00 \n",
            "  0.000e+00  7.642e-02  0.000e+00  0.000e+00  0.000e+00  0.000e+00  0.000e+00  0.000e+00 \n",
            "  0.000e+00  0.000e+00  1.280e+00  0.000e+00  0.000e+00  0.000e+00  0.000e+00  0.000e+00 \n",
            "  0.000e+00  0.000e+00  0.000e+00  4.956e-02  0.000e+00  0.000e+00  0.000e+00  0.000e+00 \n",
            "  0.000e+00  0.000e+00  0.000e+00  0.000e+00  2.500e-01  0.000e+00  0.000e+00  0.000e+00 \n",
            "  0.000e+00  0.000e+00  0.000e+00  0.000e+00  0.000e+00  5.166e+03  0.000e+00  0.000e+00 \n",
            "  0.000e+00  0.000e+00  0.000e+00  0.000e+00  0.000e+00  0.000e+00  1.897e+03  0.000e+00 \n",
            "  0.000e+00  0.000e+00  0.000e+00  0.000e+00  0.000e+00  0.000e+00  0.000e+00  3.521e-08 \n",
            "ERR MATRIX APPROXIMATE\n",
            " PARAMETER  CORRELATION COEFFICIENTS  \n",
            "       NO.  GLOBAL      1      2      3      4      5      6      7      8\n",
            "        1  0.00000   1.000  0.000  0.000  0.000  0.000  0.000  0.000  0.000\n",
            "        2  0.00000   0.000  1.000  0.000  0.000  0.000  0.000  0.000  0.000\n",
            "        3  0.00000   0.000  0.000  1.000  0.000  0.000  0.000  0.000  0.000\n",
            "        4  0.00000   0.000  0.000  0.000  1.000  0.000  0.000  0.000  0.000\n",
            "        5  0.00000   0.000  0.000  0.000  0.000  1.000  0.000  0.000  0.000\n",
            "        6  0.00000   0.000  0.000  0.000  0.000  0.000  1.000  0.000  0.000\n",
            "        7  0.00000   0.000  0.000  0.000  0.000  0.000  0.000  1.000  0.000\n",
            "        8  0.00000   0.000  0.000  0.000  0.000  0.000  0.000  0.000  1.000\n",
            " ERR MATRIX APPROXIMATE\n",
            " **********\n",
            " **    7 **HESSE        4000\n",
            " **********\n",
            " MINUIT WARNING IN HESSE\n",
            " ============== Second derivative zero for parameter3\n",
            "  MNHESS FAILS AND WILL RETURN DIAGONAL MATRIX. \n",
            " FCN=-17023.9 FROM HESSE     STATUS=FAILED          7 CALLS         737 TOTAL\n",
            "                     EDM=7.04668e-05    STRATEGY= 1  ERROR MATRIX UNCERTAINTY 100.0 per cent\n",
            "  EXT PARAMETER                APPROXIMATE     INTERNAL      INTERNAL  \n",
            "  NO.   NAME      VALUE            ERROR       STEP SIZE       VALUE   \n",
            "   1  Alpha        1.27651e+01   1.05160e+01   5.00000e-01   9.40357e+00\n",
            "   2  Mean         5.28462e+03   2.76433e-01   3.34861e-04   1.28631e-01\n",
            "   3  N            5.84058e-01   1.52167e+00   1.46400e-09  -5.23598e-01\n",
            "   4  Width        1.77253e+01   2.22621e-01  -2.37656e-05  -2.95260e-01\n",
            "   5  combined norm   5.00000e-01   4.20735e-01  -2.88603e-08  -1.54179e-07\n",
            "   6  combined_signal_norm   4.89161e+03   7.18708e+01   1.19593e-05  -5.86587e-01\n",
            "   7  exp_Norm     1.58738e+03   4.35587e+01   3.56189e-05  -8.98944e-01\n",
            "   8  exponent    -2.58071e-03   1.87631e-04  -3.02697e-07  -1.29035e-03\n",
            "                               ERR DEF= 0.5\n",
            " EXTERNAL ERROR MATRIX.    NDIM=  25    NPAR=  8    ERR DEF=0.5\n",
            "  1.562e+02  0.000e+00  0.000e+00  0.000e+00  0.000e+00  0.000e+00  0.000e+00  0.000e+00 \n",
            "  0.000e+00  7.642e-02  0.000e+00  0.000e+00  0.000e+00  0.000e+00  0.000e+00  0.000e+00 \n",
            "  0.000e+00  0.000e+00  1.280e+00  0.000e+00  0.000e+00  0.000e+00  0.000e+00  0.000e+00 \n",
            "  0.000e+00  0.000e+00  0.000e+00  4.956e-02  0.000e+00  0.000e+00  0.000e+00  0.000e+00 \n",
            "  0.000e+00  0.000e+00  0.000e+00  0.000e+00  2.500e-01  0.000e+00  0.000e+00  0.000e+00 \n",
            "  0.000e+00  0.000e+00  0.000e+00  0.000e+00  0.000e+00  5.166e+03  0.000e+00  0.000e+00 \n",
            "  0.000e+00  0.000e+00  0.000e+00  0.000e+00  0.000e+00  0.000e+00  1.897e+03  0.000e+00 \n",
            "  0.000e+00  0.000e+00  0.000e+00  0.000e+00  0.000e+00  0.000e+00  0.000e+00  3.521e-08 \n",
            "ERR MATRIX APPROXIMATE\n",
            " PARAMETER  CORRELATION COEFFICIENTS  \n",
            "       NO.  GLOBAL      1      2      3      4      5      6      7      8\n",
            "        1  0.00000   1.000  0.000  0.000  0.000  0.000  0.000  0.000  0.000\n",
            "        2  0.00000   0.000  1.000  0.000  0.000  0.000  0.000  0.000  0.000\n",
            "        3  0.00000   0.000  0.000  1.000  0.000  0.000  0.000  0.000  0.000\n",
            "        4  0.00000   0.000  0.000  0.000  1.000  0.000  0.000  0.000  0.000\n",
            "        5  0.00000   0.000  0.000  0.000  0.000  1.000  0.000  0.000  0.000\n",
            "        6  0.00000   0.000  0.000  0.000  0.000  0.000  1.000  0.000  0.000\n",
            "        7  0.00000   0.000  0.000  0.000  0.000  0.000  0.000  1.000  0.000\n",
            "        8  0.00000   0.000  0.000  0.000  0.000  0.000  0.000  0.000  1.000\n",
            " ERR MATRIX APPROXIMATE\n",
            " **********\n",
            " **    8 **SET ERR         0.5\n",
            " **********\n",
            " **********\n",
            " **    9 **SET PRINT           1\n",
            " **********\n",
            " **********\n",
            " **   10 **HESSE        4000\n",
            " **********\n",
            " MINUIT WARNING IN HESSE\n",
            " ============== Second derivative zero for parameter3\n",
            "  MNHESS FAILS AND WILL RETURN DIAGONAL MATRIX. \n",
            " FCN=-17023.9 FROM HESSE     STATUS=FAILED          7 CALLS         744 TOTAL\n",
            "                     EDM=7.04668e-05    STRATEGY= 1  ERROR MATRIX UNCERTAINTY 100.0 per cent\n",
            "  EXT PARAMETER                APPROXIMATE     INTERNAL      INTERNAL  \n",
            "  NO.   NAME      VALUE            ERROR       STEP SIZE       VALUE   \n",
            "   1  Alpha        1.27651e+01   1.05160e+01   5.00000e-01   9.40357e+00\n",
            "   2  Mean         5.28462e+03   2.76433e-01   3.34861e-04   1.28631e-01\n",
            "   3  N            5.84058e-01   1.52167e+00   1.46400e-09  -5.23598e-01\n",
            "   4  Width        1.77253e+01   2.22621e-01  -2.37656e-05  -2.95260e-01\n",
            "   5  combined norm   5.00000e-01   4.20735e-01  -2.88603e-08  -1.54179e-07\n",
            "   6  combined_signal_norm   4.89161e+03   7.18708e+01   1.19593e-05  -5.86587e-01\n",
            "   7  exp_Norm     1.58738e+03   4.35587e+01   3.56189e-05  -8.98944e-01\n",
            "   8  exponent    -2.58071e-03   1.87631e-04  -3.02697e-07  -1.29035e-03\n",
            "                               ERR DEF= 0.5\n",
            " EXTERNAL ERROR MATRIX.    NDIM=  25    NPAR=  8    ERR DEF=0.5\n",
            "  1.562e+02  0.000e+00  0.000e+00  0.000e+00  0.000e+00  0.000e+00  0.000e+00  0.000e+00 \n",
            "  0.000e+00  7.642e-02  0.000e+00  0.000e+00  0.000e+00  0.000e+00  0.000e+00  0.000e+00 \n",
            "  0.000e+00  0.000e+00  1.280e+00  0.000e+00  0.000e+00  0.000e+00  0.000e+00  0.000e+00 \n",
            "  0.000e+00  0.000e+00  0.000e+00  4.956e-02  0.000e+00  0.000e+00  0.000e+00  0.000e+00 \n",
            "  0.000e+00  0.000e+00  0.000e+00  0.000e+00  2.500e-01  0.000e+00  0.000e+00  0.000e+00 \n",
            "  0.000e+00  0.000e+00  0.000e+00  0.000e+00  0.000e+00  5.166e+03  0.000e+00  0.000e+00 \n",
            "  0.000e+00  0.000e+00  0.000e+00  0.000e+00  0.000e+00  0.000e+00  1.897e+03  0.000e+00 \n",
            "  0.000e+00  0.000e+00  0.000e+00  0.000e+00  0.000e+00  0.000e+00  0.000e+00  3.521e-08 \n",
            "ERR MATRIX APPROXIMATE\n",
            " PARAMETER  CORRELATION COEFFICIENTS  \n",
            "       NO.  GLOBAL      1      2      3      4      5      6      7      8\n",
            "        1  0.00000   1.000  0.000  0.000  0.000  0.000  0.000  0.000  0.000\n",
            "        2  0.00000   0.000  1.000  0.000  0.000  0.000  0.000  0.000  0.000\n",
            "        3  0.00000   0.000  0.000  1.000  0.000  0.000  0.000  0.000  0.000\n",
            "        4  0.00000   0.000  0.000  0.000  1.000  0.000  0.000  0.000  0.000\n",
            "        5  0.00000   0.000  0.000  0.000  0.000  1.000  0.000  0.000  0.000\n",
            "        6  0.00000   0.000  0.000  0.000  0.000  0.000  1.000  0.000  0.000\n",
            "        7  0.00000   0.000  0.000  0.000  0.000  0.000  0.000  1.000  0.000\n",
            "        8  0.00000   0.000  0.000  0.000  0.000  0.000  0.000  0.000  1.000\n",
            " ERR MATRIX APPROXIMATE\n",
            "[#1] INFO:Minization -- RooMinimizer::optimizeConst: deactivating const optimization\n"
          ],
          "name": "stdout"
        }
      ]
    },
    {
      "cell_type": "code",
      "metadata": {
        "id": "rMkM7eCvdane",
        "colab": {
          "base_uri": "https://localhost:8080/",
          "height": 590
        },
        "outputId": "149c6e62-06b5-4bc9-d59b-78ececb5b5f4"
      },
      "source": [
        "#Now to plot it all\r\n",
        "c9=ROOT.TCanvas(\"c9\",\"c9\")\r\n",
        "frame=mass.frame()\r\n",
        "data_to_fit.plotOn(frame)\r\n",
        "model.plotOn(frame, ROOT.RooFit.Components(\"Crystal Ball\"),ROOT.RooFit.LineColor(8),ROOT.RooFit.LineStyle(2))\r\n",
        "model.plotOn(frame, ROOT.RooFit.Components(\"Exponential Background\"),ROOT.RooFit.LineColor(46),ROOT.RooFit.LineStyle(2))\r\n",
        "model.plotOn(frame, ROOT.RooFit.Components(\"Gaussian Signal\"),ROOT.RooFit.LineColor(30),ROOT.RooFit.LineStyle(2))\r\n",
        "model.plotOn(frame)\r\n",
        "frame.SetTitle(\"B Meson Mass Plot - Crystal Ball & Gauss & Exponential fitting\")\r\n",
        "frame.Draw()\r\n",
        "c9.Update()\r\n",
        "c9.Draw()"
      ],
      "execution_count": 23,
      "outputs": [
        {
          "output_type": "stream",
          "text": [
            "[#1] INFO:Plotting -- RooAbsPdf::plotOn(Full Model) directly selected PDF components: (Crystal Ball)\n",
            "[#1] INFO:Plotting -- RooAbsPdf::plotOn(Full Model) indirectly selected PDF components: (Combined Signal)\n",
            "[#1] INFO:Plotting -- RooAbsPdf::plotOn(Full Model) directly selected PDF components: (Exponential Background)\n",
            "[#1] INFO:Plotting -- RooAbsPdf::plotOn(Full Model) indirectly selected PDF components: ()\n",
            "[#1] INFO:Plotting -- RooAbsPdf::plotOn(Full Model) directly selected PDF components: (Gaussian Signal)\n",
            "[#1] INFO:Plotting -- RooAbsPdf::plotOn(Full Model) indirectly selected PDF components: (Combined Signal)\n"
          ],
          "name": "stdout"
        },
        {
          "output_type": "display_data",
          "data": {
            "image/png": "[encoded data removed]",
            "text/plain": [
              "<IPython.core.display.Image object>"
            ]
          },
          "metadata": {
            "tags": []
          }
        }
      ]
    },
    {
      "cell_type": "code",
      "metadata": {
        "id": "bqhHJx9IcwwF",
        "colab": {
          "base_uri": "https://localhost:8080/"
        },
        "outputId": "beef2757-c346-4183-8b39-3f5ee16bc42e"
      },
      "source": [
        "Signal_yield = combined_signal_norm.getValV()\r\n",
        "Signal_Error = combined_signal_norm.getError()\r\n",
        "x2 = frame.chiSquare()\r\n",
        "\r\n",
        "print(\"Signal yield \"+ str(Signal_yield))\r\n",
        "print(\"Signal_Error \"+ str(Signal_Error))\r\n",
        "print(\"x^2 \"+ str(x2))"
      ],
      "execution_count": 24,
      "outputs": [
        {
          "output_type": "stream",
          "text": [
            "Signal yield 4891.61475881\n",
            "Signal_Error 71.870792808\n",
            "x^2 6.08210861204\n"
          ],
          "name": "stdout"
        }
      ]
    },
    {
      "cell_type": "markdown",
      "metadata": {
        "id": "vHivSaH1dwy7"
      },
      "source": [
        "So how good was the fit, and how many events do you have?\r\n",
        "\r\n",
        "We can use the .getValV() function on our signal and background *normalisation* components, e.g. Gauss_Norm=Gauss.getValV()\r\n",
        "\r\n",
        "To find the error (on this number) we can use .getError()\r\n",
        "\r\n",
        "Neither of these measures would tell us if this was a good fit or not. Normally we use a χ2 test to do so - this is built into the image we made (so we can do frame.chiSquare() to get this data)\r\n",
        "\r\n",
        "For each model you made, print the signal and background yields (with errors) and report the χ2"
      ]
    },
    {
      "cell_type": "markdown",
      "metadata": {
        "id": "ob2HARgWoTGe"
      },
      "source": [
        "#Counting\r\n",
        "\r\n",
        "So we have now loaded our data; we have reconstructed information about the mother B meson and we have cut away any data which looks like it might not be what we are looking for. We have then plotted histograms of the mass of the B meson and used this to fit a model, a function to describe the events there. We now have to identify which of our events belong to the B<sup>+</sup> and how many of them belong to B<sup>-</sup>.\r\n",
        "\r\n",
        "To do this, should split out data into two groups (and throw away data which doesn't comply with either decay)\r\n",
        "\r\n",
        "We will be looking for the events which are\r\n",
        "\r\n",
        "\r\n",
        "B<sup>+</sup>->K<sup>+</sup> + K<sup>+</sup>  + K<sup>-</sup>\r\n",
        "\r\n",
        "or\r\n",
        "\r\n",
        "B<sup>-</sup>->K<sup>-</sup> + K<sup>-</sup>  + K<sup>+</sup>\r\n",
        "\r\n",
        "We can look for the number of positive and negative charges in H1, H2 and H3 (using the variable ```H1_Charge``` etc.). If we have 0 or 3 positive charges, we should throw the event away and if we have 1 it should be assigned be a B<sup>-</sup>, with 2 it should be a B<sup>+</sup>"
      ]
    },
    {
      "cell_type": "code",
      "metadata": {
        "id": "G_taUY8sDurq"
      },
      "source": [
        "#selection2=(\"(H1_Charge + H2_Charge + H3_Charge) != 0 || (H1_Charge + H2_Charge + H3_Charge) !=3\")\r\n",
        "#CutTree=CutTree.CopyTree(selection2)\r\n",
        "B_plus = CutTree.CopyTree(\"(H1_Charge + H2_Charge + H3_Charge)==1\")\r\n",
        "B_minus = CutTree.CopyTree(\"(H1_Charge + H2_Charge + H3_Charge)==-1\")"
      ],
      "execution_count": 25,
      "outputs": []
    },
    {
      "cell_type": "markdown",
      "metadata": {
        "id": "g4nVaEDTetQh"
      },
      "source": [
        "--------------------------------------------------------------------------------\r\n",
        "**Fitting B+**"
      ]
    },
    {
      "cell_type": "code",
      "metadata": {
        "id": "9r0klnjzesOo"
      },
      "source": [
        "#define physical measurment that we want to fit using RooRealVar\r\n",
        "# var = ROOT.RooRealVar =(\"Variable from Python\", \"Nickname\",Min, Max, Units)\r\n",
        "mass = ROOT.RooRealVar(\"M_m0\",\"Mass\",5000,5500,\"MeV/C^{2}\")\r\n",
        "gaussMean = ROOT.RooRealVar(\"Mean\",\"Mean\",5300,5200,5350)\r\n",
        "gaussWidth = ROOT.RooRealVar(\"Width\",\"Width\",20,0,50)\r\n",
        "\r\n",
        "\r\n",
        "Gauss=ROOT.RooGaussian(\"Gaussian Signal\",\"Gauss\",mass,gaussMean,gaussWidth)\r\n",
        "Gauss_Norm= ROOT.RooRealVar(\"Gauss_Norm\",\"Signal Yield\", B_plus.GetEntries()/30, 0, B_plus.GetEntries() * 3)\r\n",
        "#passing the rest of the variables into the model\r\n",
        "#For the RooRealVar the last three parameters are given, \"starting value\" and min/max values\r\n",
        "cbMean = ROOT.RooRealVar(\"Mean\",\"Mean\",5200,5100,5350)\r\n",
        "cbWidth = ROOT.RooRealVar(\"Width\",\"Width\",20,0,60)\r\n",
        "cbAlpha = ROOT.RooRealVar(\"Alpha\",\"Alpha\",10,0,25)\r\n",
        "cbN = ROOT.RooRealVar(\"N\",\"N\",2,0,8)\r\n",
        "\r\n",
        "#Now we have enough to make our Model for the signal:\r\n",
        "\r\n",
        "CB=ROOT.RooCBShape(\"Crystal Ball\",\"CB\", mass, cbMean, cbWidth, cbAlpha, cbN )\r\n",
        "CB_Norm= ROOT.RooRealVar(\"CB Norm\",\"CB Norm\", B_plus.GetEntries()/30, 0, B_plus.GetEntries() * 3)\r\n",
        "#We also need a background, so let's use a (simple) exponential:\r\n",
        "\r\n",
        "exponent=ROOT.RooRealVar(\"exponent\", \"C\", -0.02, -2, +2)\r\n",
        "exp_Norm= ROOT.RooRealVar(\"exp_Norm\",\"Background Yield\", B_plus.GetEntries()/30, 0, B_plus.GetEntries() * 2)\r\n",
        "\r\n",
        "#Define the  model for the background:\r\n",
        "\r\n",
        "Bkgnd=ROOT.RooExponential(\"Exponential Background\",\"Bkgnd\",mass,exponent)\r\n",
        "\r\n",
        "#Now we need to combine these two functions into a single PDF (probability density function)\r\n",
        "#and we need to add the normalisation factors at the end as scaling factors\r\n",
        "\r\n",
        "combine_norm=ROOT.RooRealVar(\"combined norm\", \"combined_norm\", 0.5, 0, 1)\r\n",
        "combined_signal=ROOT.RooAddPdf(\"Combined Signal\", \"combined_signal\", Gauss, CB, combine_norm)\r\n",
        "combined_signal_norm=ROOT.RooRealVar(\"combined_signal_norm\",\"combined signal norm\", B_plus.GetEntries()/30, 0, B_plus.GetEntries() * 3)"
      ],
      "execution_count": 26,
      "outputs": []
    },
    {
      "cell_type": "code",
      "metadata": {
        "id": "Skrn-V0Qe1SN",
        "colab": {
          "base_uri": "https://localhost:8080/"
        },
        "outputId": "57b7e1a3-02ca-484e-83d8-64850ad1fb23"
      },
      "source": [
        "#Put our data set into a RooDataSet structure\r\n",
        "model=ROOT.RooAddPdf(\"Full Model\",\"model\",ROOT.RooArgList(combined_signal, Bkgnd),ROOT.RooArgList(combined_signal_norm, exp_Norm) )\r\n",
        "data_to_fit=ROOT.RooDataSet(\"Data Set\",\"data_to_fit\", B_plus, ROOT.RooArgSet(mass))\r\n",
        "\r\n",
        "#Then we can do the fitting:\r\n",
        "\r\n",
        "model.fitTo(data_to_fit)\r\n",
        "\r\n",
        "#if everything went well, you will see the outputs of RooFit below"
      ],
      "execution_count": 27,
      "outputs": [
        {
          "output_type": "execute_result",
          "data": {
            "text/plain": [
              "<ROOT.RooFitResult object at 0x(nil)>"
            ]
          },
          "metadata": {
            "tags": []
          },
          "execution_count": 27
        },
        {
          "output_type": "stream",
          "text": [
            "[#1] INFO:Eval -- RooAbsReal::attachToTree(M_m0) TTree Float_t branch M_m0 will be converted to double precision\n",
            "[#1] INFO:Eval -- RooTreeDataStore::loadValues(Data Set) Ignored 433 out of range events\n",
            "[#1] INFO:Minization -- p.d.f. provides expected number of events, including extended term in likelihood.\n",
            "[#1] INFO:Minization -- RooMinimizer::optimizeConst: activating const optimization\n",
            "[#1] INFO:Minization --  The following expressions will be evaluated in cache-and-track mode: (Gaussian Signal,Crystal Ball,Exponential Background)\n",
            " **********\n",
            " **   11 **SET PRINT           1\n",
            " **********\n",
            " **********\n",
            " **   12 **SET NOGRAD\n",
            " **********\n",
            " PARAMETER DEFINITIONS:\n",
            "    NO.   NAME         VALUE      STEP SIZE      LIMITS\n",
            "     1 Alpha        1.00000e+01  2.50000e+00    0.00000e+00  2.50000e+01\n",
            "     2 Mean         5.30000e+03  1.50000e+01    5.20000e+03  5.35000e+03\n",
            "     3 N            2.00000e+00  8.00000e-01    0.00000e+00  8.00000e+00\n",
            "     4 Width        2.00000e+01  5.00000e+00    0.00000e+00  5.00000e+01\n",
            "     5 combined norm   5.00000e-01  1.00000e-01    0.00000e+00  1.00000e+00\n",
            "     6 combined_signal_norm   1.24000e+02  6.20000e+01    0.00000e+00  1.11660e+04\n",
            "     7 exp_Norm     1.24000e+02  6.20000e+01    0.00000e+00  7.44400e+03\n",
            "     8 exponent    -2.00000e-02  4.00000e-01   -2.00000e+00  2.00000e+00\n",
            " **********\n",
            " **   13 **SET ERR         0.5\n",
            " **********\n",
            " **********\n",
            " **   14 **SET PRINT           1\n",
            " **********\n",
            " **********\n",
            " **   15 **SET STR           1\n",
            " **********\n",
            " NOW USING STRATEGY  1: TRY TO BALANCE SPEED AGAINST RELIABILITY\n",
            " **********\n",
            " **   16 **MIGRAD        4000           1\n",
            " **********\n",
            " FIRST CALL TO USER FUNCTION AT NEW START POINT, WITH IFLAG=4.\n",
            " START MIGRAD MINIMIZATION.  STRATEGY  1.  CONVERGENCE WHEN EDM .LT. 1.00e-03\n",
            " FCN=-113.566 FROM MIGRAD    STATUS=INITIATE      129 CALLS         130 TOTAL\n",
            "                     EDM= unknown      STRATEGY= 1      NO ERROR MATRIX       \n",
            "  EXT PARAMETER               CURRENT GUESS       STEP         FIRST   \n",
            "  NO.   NAME      VALUE            ERROR          SIZE      DERIVATIVE \n",
            "   1  Alpha        9.55465e-01   2.50000e+00   0.00000e+00  -6.57590e+02\n",
            "   2  Mean         5.30000e+03   1.50000e+01   0.00000e+00   3.64050e+03\n",
            "   3  N            2.00000e+00   8.00000e-01   0.00000e+00  -1.81553e+02\n",
            "   4  Width        2.00000e+01   5.00000e+00   0.00000e+00   3.89188e+02\n",
            "   5  combined norm   5.00000e-01   1.00000e-01   0.00000e+00  -9.89703e+01\n",
            "   6  combined_signal_norm   1.24000e+02   6.20000e+01   0.00000e+00  -2.02790e+04\n",
            "   7  exp_Norm     1.24000e+02   6.20000e+01   0.00000e+00  -6.85355e+03\n",
            "   8  exponent    -1.99170e-03   4.00000e-01   9.00432e-03  -3.26187e+04\n",
            "                               ERR DEF= 0.5\n",
            " MIGRAD MINIMIZATION HAS CONVERGED.\n",
            " MIGRAD WILL VERIFY CONVERGENCE AND ERROR MATRIX.\n",
            " COVARIANCE MATRIX CALCULATED SUCCESSFULLY\n",
            " FCN=-6554 FROM MIGRAD    STATUS=CONVERGED     989 CALLS         990 TOTAL\n",
            "                     EDM=2.47477e-05    STRATEGY= 1      ERROR MATRIX ACCURATE \n",
            "  EXT PARAMETER                                   STEP         FIRST   \n",
            "  NO.   NAME      VALUE            ERROR          SIZE      DERIVATIVE \n",
            "   1  Alpha        3.93936e-02   1.83966e-02   8.00584e-04  -1.84066e-01\n",
            "   2  Mean         5.28633e+03   3.99860e-01   2.86994e-04  -8.80704e-02\n",
            "   3  N            7.99988e+00   7.80142e+00   1.98253e-01  -6.08994e-04\n",
            "   4  Width        1.72666e+01   3.37948e-01   7.41820e-04   2.60260e-02\n",
            "   5  combined norm   8.34726e-01   2.11543e-02   1.48669e-03   1.35209e-01\n",
            "   6  combined_signal_norm   2.91412e+03   8.29220e+01   6.36242e-04   6.53016e-02\n",
            "   7  exp_Norm     3.74926e+02   6.58603e+01   9.41178e-04   5.07667e-02\n",
            "   8  exponent     4.21860e-04   9.59506e-04   1.20942e-05  -1.00381e+01\n",
            "                               ERR DEF= 0.5\n",
            " EXTERNAL ERROR MATRIX.    NDIM=  25    NPAR=  8    ERR DEF=0.5\n",
            "  3.385e-04  9.126e-04 -6.399e-06 -1.480e-03 -2.471e-05 -4.665e-01  4.666e-01 -7.202e-06 \n",
            "  9.126e-04  1.599e-01 -1.143e-04 -1.816e-02  2.117e-03  3.776e+00 -3.777e+00  4.555e-05 \n",
            " -6.399e-06 -1.143e-04  1.270e-02  1.616e-04 -1.799e-06  2.719e-02 -2.720e-02  4.493e-07 \n",
            " -1.480e-03 -1.816e-02  1.616e-04  1.142e-01 -3.406e-04  3.526e+00 -3.527e+00  2.717e-05 \n",
            " -2.471e-05  2.117e-03 -1.799e-06 -3.406e-04  4.480e-04  1.117e+00 -1.117e+00  1.589e-05 \n",
            " -4.665e-01  3.776e+00  2.719e-02  3.526e+00  1.117e+00  6.877e+03 -3.964e+03  5.433e-02 \n",
            "  4.666e-01 -3.777e+00 -2.720e-02 -3.527e+00 -1.117e+00 -3.964e+03  4.340e+03 -5.435e-02 \n",
            " -7.202e-06  4.555e-05  4.493e-07  2.717e-05  1.589e-05  5.433e-02 -5.435e-02  9.207e-07 \n",
            " PARAMETER  CORRELATION COEFFICIENTS  \n",
            "       NO.  GLOBAL      1      2      3      4      5      6      7      8\n",
            "        1  0.64072   1.000  0.124 -0.003 -0.238 -0.063 -0.306  0.385 -0.408\n",
            "        2  0.30555   0.124  1.000 -0.003 -0.134  0.250  0.114 -0.143  0.119\n",
            "        3  0.00908  -0.003 -0.003  1.000  0.004 -0.001  0.003 -0.004  0.004\n",
            "        4  0.35703  -0.238 -0.134  0.004  1.000 -0.048  0.126 -0.158  0.084\n",
            "        5  0.88455  -0.063  0.250 -0.001 -0.048  1.000  0.636 -0.801  0.783\n",
            "        6  0.73962  -0.306  0.114  0.003  0.126  0.636  1.000 -0.726  0.683\n",
            "        7  0.90934   0.385 -0.143 -0.004 -0.158 -0.801 -0.726  1.000 -0.860\n",
            "        8  0.89223  -0.408  0.119  0.004  0.084  0.783  0.683 -0.860  1.000\n",
            " **********\n",
            " **   17 **SET ERR         0.5\n",
            " **********\n",
            " **********\n",
            " **   18 **SET PRINT           1\n",
            " **********\n",
            " **********\n",
            " **   19 **HESSE        4000\n",
            " **********\n",
            " COVARIANCE MATRIX CALCULATED SUCCESSFULLY\n",
            " FCN=-6554 FROM HESSE     STATUS=OK             61 CALLS        1051 TOTAL\n",
            "                     EDM=2.4723e-05    STRATEGY= 1      ERROR MATRIX ACCURATE \n",
            "  EXT PARAMETER                                INTERNAL      INTERNAL  \n",
            "  NO.   NAME      VALUE            ERROR       STEP SIZE       VALUE   \n",
            "   1  Alpha        3.93936e-02   1.82934e-02   3.20234e-05  -1.49138e+00\n",
            "   2  Mean         5.28633e+03   3.99969e-01   5.73988e-05   1.51668e-01\n",
            "   3  N            7.99988e+00   7.79237e+00   3.96506e-02   1.56293e+00\n",
            "   4  Width        1.72666e+01   3.37955e-01   2.96728e-05  -3.14493e-01\n",
            "   5  combined norm   8.34726e-01   2.11756e-02   2.97338e-04   2.40812e+00\n",
            "   6  combined_signal_norm   2.91412e+03   8.27764e+01   1.27248e-04  -4.98417e-01\n",
            "   7  exp_Norm     3.74926e+02   6.56624e+01   1.88236e-04  -1.11809e+00\n",
            "   8  exponent     4.21860e-04   9.55743e-04   2.41884e-06   2.10930e-04\n",
            "                               ERR DEF= 0.5\n",
            " EXTERNAL ERROR MATRIX.    NDIM=  25    NPAR=  8    ERR DEF=0.5\n",
            "  3.347e-04  9.118e-04 -1.017e-06 -1.467e-03 -2.213e-05 -4.523e-01  4.523e-01 -6.985e-06 \n",
            "  9.118e-04  1.600e-01 -1.548e-05 -1.831e-02  2.130e-03  3.819e+00 -3.820e+00  4.613e-05 \n",
            " -1.017e-06 -1.548e-05  1.277e-02  2.201e-05 -2.262e-07  3.789e-03 -3.789e-03  6.233e-08 \n",
            " -1.467e-03 -1.831e-02  2.201e-05  1.142e-01 -3.573e-04  3.457e+00 -3.457e+00  2.605e-05 \n",
            " -2.213e-05  2.130e-03 -2.262e-07 -3.573e-04  4.489e-04  1.116e+00 -1.116e+00  1.586e-05 \n",
            " -4.523e-01  3.819e+00  3.789e-03  3.457e+00  1.116e+00  6.853e+03 -3.939e+03  5.390e-02 \n",
            "  4.523e-01 -3.820e+00 -3.789e-03 -3.457e+00 -1.116e+00 -3.939e+03  4.314e+03 -5.390e-02 \n",
            " -6.985e-06  4.613e-05  6.233e-08  2.605e-05  1.586e-05  5.390e-02 -5.390e-02  9.134e-07 \n",
            " PARAMETER  CORRELATION COEFFICIENTS  \n",
            "       NO.  GLOBAL      1      2      3      4      5      6      7      8\n",
            "        1  0.63550   1.000  0.125 -0.000 -0.237 -0.057 -0.299  0.376 -0.399\n",
            "        2  0.30636   0.125  1.000 -0.000 -0.135  0.251  0.115 -0.145  0.121\n",
            "        3  0.00122  -0.000 -0.000  1.000  0.001 -0.000  0.000 -0.001  0.001\n",
            "        4  0.35707  -0.237 -0.135  0.001  1.000 -0.050  0.124 -0.156  0.081\n",
            "        5  0.88480  -0.057  0.251 -0.000 -0.050  1.000  0.636 -0.802  0.783\n",
            "        6  0.73854  -0.299  0.115  0.000  0.124  0.636  1.000 -0.724  0.681\n",
            "        7  0.90877   0.376 -0.145 -0.001 -0.156 -0.802 -0.724  1.000 -0.859\n",
            "        8  0.89133  -0.399  0.121  0.001  0.081  0.783  0.681 -0.859  1.000\n",
            "[#1] INFO:Minization -- RooMinimizer::optimizeConst: deactivating const optimization\n"
          ],
          "name": "stdout"
        }
      ]
    },
    {
      "cell_type": "code",
      "metadata": {
        "id": "zVss-l4be4zJ",
        "colab": {
          "base_uri": "https://localhost:8080/",
          "height": 590
        },
        "outputId": "6ff50826-449f-4244-c661-c9bcd188d7f8"
      },
      "source": [
        "#Now to plot it all\r\n",
        "c10=ROOT.TCanvas(\"c10\",\"c10\")\r\n",
        "frame=mass.frame()\r\n",
        "data_to_fit.plotOn(frame)\r\n",
        "model.plotOn(frame, ROOT.RooFit.Components(\"Crystal Ball\"),ROOT.RooFit.LineColor(8),ROOT.RooFit.LineStyle(2))\r\n",
        "model.plotOn(frame, ROOT.RooFit.Components(\"Exponential Background\"),ROOT.RooFit.LineColor(46),ROOT.RooFit.LineStyle(2))\r\n",
        "model.plotOn(frame, ROOT.RooFit.Components(\"Gaussian Signal\"),ROOT.RooFit.LineColor(30),ROOT.RooFit.LineStyle(2))\r\n",
        "frame.SetTitle(\"B+ Meson Mass Plot - Crystal Ball & Gauss & Exponential fitting\")\r\n",
        "model.plotOn(frame)\r\n",
        "frame.Draw()\r\n",
        "c10.Update()\r\n",
        "c10.Draw()"
      ],
      "execution_count": 28,
      "outputs": [
        {
          "output_type": "stream",
          "text": [
            "[#1] INFO:Plotting -- RooAbsPdf::plotOn(Full Model) directly selected PDF components: (Crystal Ball)\n",
            "[#1] INFO:Plotting -- RooAbsPdf::plotOn(Full Model) indirectly selected PDF components: (Combined Signal)\n",
            "[#1] INFO:Plotting -- RooAbsPdf::plotOn(Full Model) directly selected PDF components: (Exponential Background)\n",
            "[#1] INFO:Plotting -- RooAbsPdf::plotOn(Full Model) indirectly selected PDF components: ()\n",
            "[#1] INFO:Plotting -- RooAbsPdf::plotOn(Full Model) directly selected PDF components: (Gaussian Signal)\n",
            "[#1] INFO:Plotting -- RooAbsPdf::plotOn(Full Model) indirectly selected PDF components: (Combined Signal)\n"
          ],
          "name": "stdout"
        },
        {
          "output_type": "display_data",
          "data": {
            "image/png": "[encoded data removed]",
            "text/plain": [
              "<IPython.core.display.Image object>"
            ]
          },
          "metadata": {
            "tags": []
          }
        }
      ]
    },
    {
      "cell_type": "code",
      "metadata": {
        "id": "cRSGEXHOe8Nc",
        "colab": {
          "base_uri": "https://localhost:8080/"
        },
        "outputId": "51a13160-bc12-4412-9853-77abba55a6bf"
      },
      "source": [
        "nbp = combined_signal_norm.getValV()\r\n",
        "Signal_Error = combined_signal_norm.getError()\r\n",
        "x2 = frame.chiSquare()\r\n",
        "\r\n",
        "print(\"Number of B+ \" + str(nbp))\r\n",
        "print(\"Signal Error \" + str(Signal_Error))\r\n",
        "print(\"x^2 \" + str(x2))"
      ],
      "execution_count": 29,
      "outputs": [
        {
          "output_type": "stream",
          "text": [
            "Number of B+ 2914.12475094\n",
            "Signal Error 82.7763564085\n",
            "x^2 1.71513411748\n"
          ],
          "name": "stdout"
        }
      ]
    },
    {
      "cell_type": "code",
      "metadata": {
        "id": "YKWXTBR4f1W-"
      },
      "source": [
        "#define physical measurment that we want to fit using RooRealVar\r\n",
        "# var = ROOT.RooRealVar =(\"Variable from Python\", \"Nickname\",Min, Max, Units)\r\n",
        "mass = ROOT.RooRealVar(\"M_m0\",\"Mass\",5000,5500,\"MeV/C^{2}\")\r\n",
        "gaussMean = ROOT.RooRealVar(\"Mean\",\"Mean\",5300,5200,5350)\r\n",
        "gaussWidth = ROOT.RooRealVar(\"Width\",\"Width\",20,0,50)\r\n",
        "\r\n",
        "\r\n",
        "Gauss=ROOT.RooGaussian(\"Gaussian Signal\",\"Gauss\",mass,gaussMean,gaussWidth)\r\n",
        "Gauss_Norm= ROOT.RooRealVar(\"Gauss_Norm\",\"Signal Yield\", B_minus.GetEntries()/30, 0, B_minus.GetEntries() * 3)\r\n",
        "#passing the rest of the variables into the model\r\n",
        "#For the RooRealVar the last three parameters are given, \"starting value\" and min/max values\r\n",
        "cbMean = ROOT.RooRealVar(\"Mean\",\"Mean\",5200,5100,5350)\r\n",
        "cbWidth = ROOT.RooRealVar(\"Width\",\"Width\",20,0,60)\r\n",
        "cbAlpha = ROOT.RooRealVar(\"Alpha\",\"Alpha\",10,0,25)\r\n",
        "cbN = ROOT.RooRealVar(\"N\",\"N\",2,0,8)\r\n",
        "\r\n",
        "#Now we have enough to make our Model for the signal:\r\n",
        "\r\n",
        "CB=ROOT.RooCBShape(\"Crystal Ball\",\"CB\", mass, cbMean, cbWidth, cbAlpha, cbN )\r\n",
        "CB_Norm= ROOT.RooRealVar(\"CB Norm\",\"CB Norm\", B_minus.GetEntries()/30, 0, B_minus.GetEntries() * 3)\r\n",
        "#We also need a background, so let's use a (simple) exponential:\r\n",
        "\r\n",
        "exponent=ROOT.RooRealVar(\"exponent\", \"C\", -0.02, -2, +2)\r\n",
        "exp_Norm= ROOT.RooRealVar(\"exp_Norm\",\"Background Yield\", B_minus.GetEntries()/30, 0, B_minus.GetEntries() * 2)\r\n",
        "\r\n",
        "#Define the  model for the background:\r\n",
        "\r\n",
        "Bkgnd=ROOT.RooExponential(\"Exponential Background\",\"Bkgnd\",mass,exponent)\r\n",
        "\r\n",
        "#Now we need to combine these two functions into a single PDF (probability density function)\r\n",
        "#and we need to add the normalisation factors at the end as scaling factors\r\n",
        "\r\n",
        "combine_norm=ROOT.RooRealVar(\"combined norm\", \"combined_norm\", 0.5, 0, 1)\r\n",
        "combined_signal=ROOT.RooAddPdf(\"Combined Signal\", \"combined_signal\", Gauss, CB, combine_norm)\r\n",
        "combined_signal_norm=ROOT.RooRealVar(\"combined_signal_norm\",\"combined signal norm\", B_minus.GetEntries()/30, 0, B_minus.GetEntries() * 3)"
      ],
      "execution_count": 30,
      "outputs": []
    },
    {
      "cell_type": "code",
      "metadata": {
        "id": "Q_0wtM_Cf7qs",
        "colab": {
          "base_uri": "https://localhost:8080/"
        },
        "outputId": "5a62eb6f-b66d-42a1-cd93-e2e1077fb200"
      },
      "source": [
        "#Put our data set into a RooDataSet structure\r\n",
        "model=ROOT.RooAddPdf(\"Full Model\",\"model\",ROOT.RooArgList(combined_signal, Bkgnd),ROOT.RooArgList(combined_signal_norm, exp_Norm) )\r\n",
        "data_to_fit=ROOT.RooDataSet(\"Data Set\",\"data_to_fit\", B_minus, ROOT.RooArgSet(mass))\r\n",
        "\r\n",
        "#Then we can do the fitting:\r\n",
        "\r\n",
        "model.fitTo(data_to_fit)\r\n",
        "\r\n",
        "#if everything went well, you will see the outputs of RooFit below"
      ],
      "execution_count": 31,
      "outputs": [
        {
          "output_type": "execute_result",
          "data": {
            "text/plain": [
              "<ROOT.RooFitResult object at 0x(nil)>"
            ]
          },
          "metadata": {
            "tags": []
          },
          "execution_count": 31
        },
        {
          "output_type": "stream",
          "text": [
            "[#1] INFO:Eval -- RooAbsReal::attachToTree(M_m0) TTree Float_t branch M_m0 will be converted to double precision\n",
            "[#1] INFO:Eval -- RooTreeDataStore::loadValues(Data Set) Ignored 392 out of range events\n",
            "[#1] INFO:Minization -- p.d.f. provides expected number of events, including extended term in likelihood.\n",
            "[#1] INFO:Minization -- RooMinimizer::optimizeConst: activating const optimization\n",
            "[#1] INFO:Minization --  The following expressions will be evaluated in cache-and-track mode: (Gaussian Signal,Crystal Ball,Exponential Background)\n",
            " **********\n",
            " **   20 **SET PRINT           1\n",
            " **********\n",
            " **********\n",
            " **   21 **SET NOGRAD\n",
            " **********\n",
            " PARAMETER DEFINITIONS:\n",
            "    NO.   NAME         VALUE      STEP SIZE      LIMITS\n",
            "     1 Alpha        1.00000e+01  2.50000e+00    0.00000e+00  2.50000e+01\n",
            "     2 Mean         5.30000e+03  1.50000e+01    5.20000e+03  5.35000e+03\n",
            "     3 N            2.00000e+00  8.00000e-01    0.00000e+00  8.00000e+00\n",
            "     4 Width        2.00000e+01  5.00000e+00    0.00000e+00  5.00000e+01\n",
            "     5 combined norm   5.00000e-01  1.00000e-01    0.00000e+00  1.00000e+00\n",
            "     6 combined_signal_norm   1.19000e+02  5.95000e+01    0.00000e+00  1.07460e+04\n",
            "     7 exp_Norm     1.19000e+02  5.95000e+01    0.00000e+00  7.16400e+03\n",
            "     8 exponent    -2.00000e-02  4.00000e-01   -2.00000e+00  2.00000e+00\n",
            " **********\n",
            " **   22 **SET ERR         0.5\n",
            " **********\n",
            " **********\n",
            " **   23 **SET PRINT           1\n",
            " **********\n",
            " **********\n",
            " **   24 **SET STR           1\n",
            " **********\n",
            " NOW USING STRATEGY  1: TRY TO BALANCE SPEED AGAINST RELIABILITY\n",
            " **********\n",
            " **   25 **MIGRAD        4000           1\n",
            " **********\n",
            " FIRST CALL TO USER FUNCTION AT NEW START POINT, WITH IFLAG=4.\n",
            " START MIGRAD MINIMIZATION.  STRATEGY  1.  CONVERGENCE WHEN EDM .LT. 1.00e-03\n",
            " FCN=248.672 FROM MIGRAD    STATUS=INITIATE      494 CALLS         495 TOTAL\n",
            "                     EDM= unknown      STRATEGY= 1      NO ERROR MATRIX       \n",
            "  EXT PARAMETER               CURRENT GUESS       STEP         FIRST   \n",
            "  NO.   NAME      VALUE            ERROR          SIZE      DERIVATIVE \n",
            "   1  Alpha        1.00000e+01   2.50000e+00   0.00000e+00  -3.08350e-03\n",
            "   2  Mean         5.30000e+03   1.50000e+01   0.00000e+00   4.79452e+03\n",
            "   3  N            2.00000e+00   8.00000e-01   0.00000e+00   0.00000e+00\n",
            "   4  Width        2.00000e+01   5.00000e+00   0.00000e+00  -4.22055e+02\n",
            "   5  combined norm   5.00000e-01   1.00000e-01   0.00000e+00   1.23218e-08\n",
            "   6  combined_signal_norm   1.19000e+02   5.95000e+01   0.00000e+00  -1.85171e+04\n",
            "   7  exp_Norm     1.19000e+02   5.95000e+01   0.00000e+00  -7.63671e+03\n",
            "   8  exponent    -3.52603e-03   4.00000e-01   0.00000e+00  -6.66070e+04\n",
            "                               ERR DEF= 0.5\n",
            " MIGRAD MINIMIZATION HAS CONVERGED.\n",
            " FCN=-6013.15 FROM MIGRAD    STATUS=CONVERGED     648 CALLS         649 TOTAL\n",
            "                     EDM=4.68379e-05    STRATEGY= 1  ERROR MATRIX UNCERTAINTY   0.5 per cent\n",
            "  EXT PARAMETER                                   STEP         FIRST   \n",
            "  NO.   NAME      VALUE            ERROR          SIZE      DERIVATIVE \n",
            "   1  Alpha        1.39242e+01   1.63970e+01   4.53517e-05  -3.63798e-12\n",
            "   2  Mean         5.28357e+03   3.92022e-01  -1.17488e-04   5.22219e-01\n",
            "   3  N            2.00000e+00   2.91494e+00  -0.00000e+00   0.00000e+00\n",
            "   4  Width        1.77700e+01   3.28089e-01   3.65945e-06  -3.41557e-01\n",
            "   5  combined norm   1.95896e-01   5.98282e-01  -9.19375e+02  -1.11468e-08\n",
            "   6  combined_signal_norm   2.36800e+03   5.02252e+01   4.63441e-04   2.20972e-01\n",
            "   7  exp_Norm     8.21968e+02   3.28457e+01  -4.83803e-04  -4.19042e-01\n",
            "   8  exponent    -2.83884e-03   2.65667e-04  -5.99917e-06   4.28520e+01\n",
            "                               ERR DEF= 0.5\n",
            " EXTERNAL ERROR MATRIX.    NDIM=  25    NPAR=  8    ERR DEF=0.5\n",
            "  1.250e+04  1.701e-03  0.000e+00 -7.992e-04  3.906e+01  7.225e-01 -4.965e-02 -5.855e-07 \n",
            "  1.701e-03  1.537e-01  0.000e+00 -5.294e-03 -5.098e+02 -9.505e-01  3.290e-01 -4.474e-06 \n",
            "  0.000e+00  0.000e+00  1.200e+01  0.000e+00  0.000e+00  0.000e+00  0.000e+00  0.000e+00 \n",
            " -7.992e-04 -5.294e-03  0.000e+00  1.076e-01 -7.888e+01  2.145e+00 -2.204e+00 -9.801e-06 \n",
            "  3.906e+01 -5.098e+02  0.000e+00 -7.888e+01  1.078e+10  1.368e+05 -7.615e+04 -6.053e-01 \n",
            "  7.225e-01 -9.505e-01  0.000e+00  2.145e+00  1.368e+05  2.523e+03 -1.699e+02 -1.609e-03 \n",
            " -4.965e-02  3.290e-01  0.000e+00 -2.204e+00 -7.615e+04 -1.699e+02  1.079e+03  1.300e-03 \n",
            " -5.855e-07 -4.474e-06  0.000e+00 -9.801e-06 -6.053e-01 -1.609e-03  1.300e-03  7.058e-08 \n",
            " PARAMETER  CORRELATION COEFFICIENTS  \n",
            "       NO.  GLOBAL      1      2      3      4      5      6      7      8\n",
            "        1  0.00014   1.000  0.000  0.000 -0.000  0.000  0.000 -0.000 -0.000\n",
            "        2  0.08329   0.000  1.000  0.000 -0.041 -0.013 -0.048  0.026 -0.043\n",
            "        3  0.00000   0.000  0.000  1.000  0.000  0.000  0.000  0.000  0.000\n",
            "        4  0.24560  -0.000 -0.041  0.000  1.000 -0.002  0.130 -0.205 -0.112\n",
            "        5  0.04018   0.000 -0.013  0.000 -0.002  1.000  0.026 -0.022 -0.022\n",
            "        6  0.18754   0.000 -0.048  0.000  0.130  0.026  1.000 -0.103 -0.121\n",
            "        7  0.25038  -0.000  0.026  0.000 -0.205 -0.022 -0.103  1.000  0.149\n",
            "        8  0.20453  -0.000 -0.043  0.000 -0.112 -0.022 -0.121  0.149  1.000\n",
            " **********\n",
            " **   26 **SET ERR         0.5\n",
            " **********\n",
            " **********\n",
            " **   27 **SET PRINT           1\n",
            " **********\n",
            " **********\n",
            " **   28 **HESSE        4000\n",
            " **********\n",
            " MINUIT WARNING IN HESSE\n",
            " ============== Second derivative enters zero, param 3\n",
            " MINUIT WARNING IN HESSE\n",
            " ============== Second derivative zero for parameter3\n",
            "  MNHESS FAILS AND WILL RETURN DIAGONAL MATRIX. \n",
            " FCN=-6013.15 FROM HESSE     STATUS=FAILED          7 CALLS         656 TOTAL\n",
            "                     EDM=4.68379e-05    STRATEGY= 1  ERROR MATRIX UNCERTAINTY 100.0 per cent\n",
            "  EXT PARAMETER                APPROXIMATE     INTERNAL      INTERNAL  \n",
            "  NO.   NAME      VALUE            ERROR       STEP SIZE       VALUE   \n",
            "   1  Alpha        1.39242e+01   1.33994e+01   5.00000e-01   1.14183e-01\n",
            "   2  Mean         5.28357e+03   3.98316e-01   2.86327e-04   1.14470e-01\n",
            "   3  N            5.84056e-01   4.27166e+00  -0.00000e+00  -5.23599e-01\n",
            "   4  Width        1.77700e+01   3.18434e-01   3.65945e-06  -2.93390e-01\n",
            "   5  combined norm   1.95896e-01   8.70823e-01  -9.19375e+02  -6.00293e+03\n",
            "   6  combined_signal_norm   2.36800e+03   5.00513e+01   4.63441e-04  -5.93515e-01\n",
            "   7  exp_Norm     8.21968e+02   3.12364e+01  -4.83803e-04  -8.79669e-01\n",
            "   8  exponent    -2.83884e-03   2.63642e-04  -5.99917e-06  -1.41942e-03\n",
            "                               ERR DEF= 0.5\n",
            " EXTERNAL ERROR MATRIX.    NDIM=  25    NPAR=  8    ERR DEF=0.5\n",
            "  1.060e+13  0.000e+00  0.000e+00  0.000e+00  0.000e+00  0.000e+00  0.000e+00  0.000e+00 \n",
            "  0.000e+00  1.587e-01  0.000e+00  0.000e+00  0.000e+00  0.000e+00  0.000e+00  0.000e+00 \n",
            "  0.000e+00  0.000e+00  1.699e+01  0.000e+00  0.000e+00  0.000e+00  0.000e+00  0.000e+00 \n",
            "  0.000e+00  0.000e+00  0.000e+00  1.014e-01  0.000e+00  0.000e+00  0.000e+00  0.000e+00 \n",
            "  0.000e+00  0.000e+00  0.000e+00  0.000e+00  1.804e+07  0.000e+00  0.000e+00  0.000e+00 \n",
            "  0.000e+00  0.000e+00  0.000e+00  0.000e+00  0.000e+00  2.505e+03  0.000e+00  0.000e+00 \n",
            "  0.000e+00  0.000e+00  0.000e+00  0.000e+00  0.000e+00  0.000e+00  9.758e+02  0.000e+00 \n",
            "  0.000e+00  0.000e+00  0.000e+00  0.000e+00  0.000e+00  0.000e+00  0.000e+00  6.951e-08 \n",
            "ERR MATRIX APPROXIMATE\n",
            " PARAMETER  CORRELATION COEFFICIENTS  \n",
            "       NO.  GLOBAL      1      2      3      4      5      6      7      8\n",
            "        1  0.00000   1.000  0.000  0.000  0.000  0.000  0.000  0.000  0.000\n",
            "        2  0.00000   0.000  1.000  0.000  0.000  0.000  0.000  0.000  0.000\n",
            "        3  0.00000   0.000  0.000  1.000  0.000  0.000  0.000  0.000  0.000\n",
            "        4  0.00000   0.000  0.000  0.000  1.000  0.000  0.000  0.000  0.000\n",
            "        5  0.00000   0.000  0.000  0.000  0.000  1.000  0.000  0.000  0.000\n",
            "        6  0.00000   0.000  0.000  0.000  0.000  0.000  1.000  0.000  0.000\n",
            "        7  0.00000   0.000  0.000  0.000  0.000  0.000  0.000  1.000  0.000\n",
            "        8  0.00000   0.000  0.000  0.000  0.000  0.000  0.000  0.000  1.000\n",
            " ERR MATRIX APPROXIMATE\n",
            "[#1] INFO:Minization -- RooMinimizer::optimizeConst: deactivating const optimization\n"
          ],
          "name": "stdout"
        }
      ]
    },
    {
      "cell_type": "code",
      "metadata": {
        "id": "XbPTb_I2gBI3",
        "colab": {
          "base_uri": "https://localhost:8080/",
          "height": 590
        },
        "outputId": "8f8c09ef-7582-4af7-c223-aa96424a7a34"
      },
      "source": [
        "#Now to plot it all\r\n",
        "c11=ROOT.TCanvas(\"c11\",\"c11\")\r\n",
        "frame=mass.frame()\r\n",
        "data_to_fit.plotOn(frame)\r\n",
        "model.plotOn(frame, ROOT.RooFit.Components(\"Crystal Ball\"),ROOT.RooFit.LineColor(8),ROOT.RooFit.LineStyle(2))\r\n",
        "model.plotOn(frame, ROOT.RooFit.Components(\"Exponential Background\"),ROOT.RooFit.LineColor(46),ROOT.RooFit.LineStyle(2))\r\n",
        "model.plotOn(frame, ROOT.RooFit.Components(\"Gaussian Signal\"),ROOT.RooFit.LineColor(30),ROOT.RooFit.LineStyle(2))\r\n",
        "model.plotOn(frame)\r\n",
        "frame.SetTitle(\"B- Meson Mass Plot - Crystal Ball & Gauss & Exponential fitting\")\r\n",
        "frame.Draw()\r\n",
        "c11.Update()\r\n",
        "c11.Draw()"
      ],
      "execution_count": 32,
      "outputs": [
        {
          "output_type": "stream",
          "text": [
            "[#1] INFO:Plotting -- RooAbsPdf::plotOn(Full Model) directly selected PDF components: (Crystal Ball)\n",
            "[#1] INFO:Plotting -- RooAbsPdf::plotOn(Full Model) indirectly selected PDF components: (Combined Signal)\n",
            "[#1] INFO:Plotting -- RooAbsPdf::plotOn(Full Model) directly selected PDF components: (Exponential Background)\n",
            "[#1] INFO:Plotting -- RooAbsPdf::plotOn(Full Model) indirectly selected PDF components: ()\n",
            "[#1] INFO:Plotting -- RooAbsPdf::plotOn(Full Model) directly selected PDF components: (Gaussian Signal)\n",
            "[#1] INFO:Plotting -- RooAbsPdf::plotOn(Full Model) indirectly selected PDF components: (Combined Signal)\n"
          ],
          "name": "stdout"
        },
        {
          "output_type": "display_data",
          "data": {
            "image/png": "[encoded data removed]",
            "text/plain": [
              "<IPython.core.display.Image object>"
            ]
          },
          "metadata": {
            "tags": []
          }
        }
      ]
    },
    {
      "cell_type": "code",
      "metadata": {
        "id": "VTAqSUzdgExO",
        "colab": {
          "base_uri": "https://localhost:8080/"
        },
        "outputId": "4dbab02c-bac6-4408-8215-b70cae956b80"
      },
      "source": [
        "nbm = combined_signal_norm.getValV()\r\n",
        "Signal_Error = combined_signal_norm.getError()\r\n",
        "x2 = frame.chiSquare()\r\n",
        "\r\n",
        "print(\"Number of B- \" + str(nbm))\r\n",
        "print(\"Signal Error \" + str(Signal_Error))\r\n",
        "print(\"x^2 \" + str(x2))"
      ],
      "execution_count": 33,
      "outputs": [
        {
          "output_type": "stream",
          "text": [
            "Number of B- 2367.99926308\n",
            "Signal Error 50.0513163636\n",
            "x^2 2.05126828869\n"
          ],
          "name": "stdout"
        }
      ]
    },
    {
      "cell_type": "markdown",
      "metadata": {
        "id": "r8VB5uN1obc4"
      },
      "source": [
        "Once we have defined if it's a B<sup>+</sup> or a B <sup>-</sup>, we should go ahead and ensure the pre-selection is applied and then plot our B mass, and fit the model to find the yield.\r\n",
        "\r\n",
        "We can then calculate the assymetry from this equation:\r\n",
        "\r\n",
        "$A=\\frac{(N^{B-}-N^{B+})}{(N^{B-}+N^{B+})}$\r\n",
        "\r\n",
        "Where N<sup>B+/- </sup> is the number of events found from the fitted yield of the signal from each data set.\r\n",
        "\r\n",
        "The uncertainty on this result is given by:\r\n",
        "\r\n",
        "$\\sigma_A=\\sqrt\\frac{1-A^2}{N^{B-}+N^{B+}}$\r\n",
        "\r\n",
        "Calculate these two values for your data and print them below:"
      ]
    },
    {
      "cell_type": "code",
      "metadata": {
        "id": "UiPNe2iuobSK",
        "colab": {
          "base_uri": "https://localhost:8080/"
        },
        "outputId": "6bff7736-73cf-4010-ce61-383a5c87df39"
      },
      "source": [
        "#Here do your calculation of the final result\r\n",
        "# Area under fitted curve\r\n",
        "from __future__ import division\r\n",
        "from numpy import sqrt\r\n",
        "#nbp = int(B_plus.GetEntries())\r\n",
        "#nbm = int(B_minus.GetEntries())\r\n",
        "print(\"Number of B plus \"+str(nbp))\r\n",
        "print(\"Number of B minus \" + str(nbm))\r\n",
        "\r\n",
        "A = float(((nbm - nbp)/(nbm + nbp)))\r\n",
        "print(\"Assymetry \"+ str(A))\r\n",
        "\r\n",
        "sigA = sqrt((1-A**2)/(nbm+nbp))\r\n",
        "print(\"Uncertainty \" + str(sigA))"
      ],
      "execution_count": 34,
      "outputs": [
        {
          "output_type": "stream",
          "text": [
            "Number of B plus 2914.12475094\n",
            "Number of B minus 2367.99926308\n",
            "Assymetry -0.103391265788\n",
            "Uncertainty 0.013685540582258357\n"
          ],
          "name": "stdout"
        }
      ]
    },
    {
      "cell_type": "markdown",
      "metadata": {
        "id": "r5B--_33okz1"
      },
      "source": [
        "#Congratulations!\r\n",
        "\r\n",
        "You just made your first LHCb physics analysis. Does this seem like a reasonable result? Did we explain why we have an excess of mass in the Universe?"
      ]
    },
    {
      "cell_type": "markdown",
      "metadata": {
        "id": "dzybWZylomGu"
      },
      "source": [
        "## **Bonus content only below here:**"
      ]
    },
    {
      "cell_type": "markdown",
      "metadata": {
        "id": "odpbRqdoou5M"
      },
      "source": [
        "To make a further anaysis, we can look into the intermediate processes.\r\n",
        "\r\n",
        "We have so far considered only that the B meson ultimately decays into three kaons. It may be that on the way, the B meson first decays into a Kaon and another particle, and then from that particle to two Kaons.\r\n",
        "\r\n",
        "We would expect this to be one of three possible modes (for B<sup>+</sup>):\r\n",
        "\r\n",
        "$R^{++} \\rightarrow K_1^+ +K_2^+$\r\n",
        "\r\n",
        "(we don't expect this to happen because of the like charges in the Kaons)\r\n",
        "\r\n",
        "$R^0 \\rightarrow K_1^+ +K_3^-$\r\n",
        "\r\n",
        "$R^0 \\rightarrow K_2^+ +K_3^-$\r\n",
        "\r\n",
        "(Expect symmetric arrangements for B<sup>-</sup>)\r\n",
        "\r\n",
        "To analyse the intermediate states we can measure the invarient masses of the intermediate states and then plot them on what is called a Dalitz plot (this is a 2D plot with two different two body decays (from the three body decay) on each axis)\r\n",
        "\r\n",
        "![Dalitz Plot](https://slideplayer.com/slide/15960097/88/images/15/Dalitz+plot%3A+%CE%9B+c+%2B+%E2%86%92%F0%9D%91%9D+%F0%9D%90%BE+%E2%88%92+%F0%9D%9C%8B+%2B.jpg)\r\n"
      ]
    },
    {
      "cell_type": "code",
      "metadata": {
        "id": "SqJxvZSKo1cW"
      },
      "source": [
        "#Define a function to find the invarient mass of two given Kaons\r\n",
        "def invariantMass(p1, p2) :\r\n",
        "  # build invariant mass string\r\n",
        "  m1  = p1+\"_M\" ;  px1 = p1+\"_PX\" ; py1 = p1+\"_PY\" ; pz1 = p1+\"_PZ\"\r\n",
        "  m2  = p2+\"_M\" ;  px2 = p2+\"_PX\" ; py2 = p2+\"_PY\" ; pz2 = p2+\"_PZ\"\r\n",
        "  ptot1 = \"sqrt(\"+px1+\"**2+\"+py1+\"**2+\"+pz1+\"**2)\"\r\n",
        "  ptot2 = \"sqrt(\"+px2+\"**2+\"+py2+\"**2+\"+pz2+\"**2)\"\r\n",
        "  E1 = \"sqrt({0}**2 + {1}**2)\".format(\"5380\",ptot1)\r\n",
        "  E2 = \"sqrt({0}**2 + {1}**2)\".format(\"5380\",ptot2)\r\n",
        "  pvecdot = \"({0}*{1} + {2}*{3} + {4}*{5})\".format(px1,px2, py1,py2, pz1,pz2)\r\n",
        "  M2 = \"({0}**2 + {1}**2 + 2*{2}*{3} - 2*{4})\".format(\"5380\",\"5380\",E1,E2,pvecdot)\r\n",
        "  return M2\r\n",
        "\r\n",
        "m2_H1H2 = invariantMass(\"H1\",\"H2\")\r\n",
        "m2_H2H3 = invariantMass(\"H2\",\"H3\")\r\n",
        "weightvar=\"1\"\r\n",
        "cuts= (\"1==1\")"
      ],
      "execution_count": 35,
      "outputs": []
    },
    {
      "cell_type": "code",
      "metadata": {
        "id": "YPVqECfPo3Wc",
        "colab": {
          "base_uri": "https://localhost:8080/",
          "height": 589
        },
        "outputId": "30a38a57-40b6-4331-8511-96212b2f2e64"
      },
      "source": [
        "#Then, ensuring you're still taking the data after the selection, make a Dalitz plot. This is a 2-D scatter plot (use e.g. TH2F to make the plot where we used TH1F before)\r\n",
        "#Choose an appropriate binning in your scatter \r\n",
        "\r\n",
        "c1 = ROOT.TCanvas(\"Dalitz_Plot\",\"Legend title\",800, 600)  \r\n",
        "CutTree.Draw(\"{0}:{1}>>dalitzHist(10,1.08e8,2.5e8,8,1.08e8,2.4e8)\".format(m2_H1H2,m2_H2H3), \"{0}*{1}\".format(cuts,weightvar)) \r\n",
        "dalitzHistPos = ROOT.gDirectory.Get(\"dalitzHist\")\r\n",
        "dalitzHistPos.Draw(\"colz\")\r\n",
        "dalitzHistPos = ROOT.gDirectory.Get(\"dalitzHist\")\r\n",
        "dalitzHistPos.SetTitle(\"Dalitz plot of both B+ and B-\")\r\n",
        "dalitzHistPos.GetYaxis().SetTitle(\"m^{2}_{H1H2} [MeV^{2}/c^{4}]\")\r\n",
        "dalitzHistPos.GetXaxis().SetTitle(\"m^{2}_{H2H3} [MeV^{2}/c^{4}]\")\r\n",
        "c1.Draw()\r\n",
        "c1.Update()"
      ],
      "execution_count": 36,
      "outputs": [
        {
          "output_type": "display_data",
          "data": {
            "image/png": "[encoded data removed]",
            "text/plain": [
              "<IPython.core.display.Image object>"
            ]
          },
          "metadata": {
            "tags": []
          }
        }
      ]
    },
    {
      "cell_type": "markdown",
      "metadata": {
        "id": "qPoPLt4Uo6QB"
      },
      "source": [
        "We can further improve our plot, since two sets of particles on each axis are exactly the same (one positive Kaon, one negative Kaon). So we can plot the maximum of the two values on one axis and the minimum on the other. We can use a quick numpy check and then plot those values."
      ]
    },
    {
      "cell_type": "code",
      "metadata": {
        "id": "KJ_fe2R3o8Aq",
        "colab": {
          "base_uri": "https://localhost:8080/",
          "height": 606
        },
        "outputId": "5e525410-61a7-4e0e-8c0a-3ee62eef8b89"
      },
      "source": [
        "#Then, ensuring you're still taking the data after the selection, make a Dalitz plot. This is a 2-D scatter plot (use e.g. TH2F to make the plot where we used TH1F before)\r\n",
        "#Choose an appropriate binning in your scatter \r\n",
        "c1 = ROOT.TCanvas(\"Dalitz_Plot\",\"Legend title\",800, 600)\r\n",
        "  #ROOT.gStyle.SetOptStat(0)\r\n",
        "  \r\n",
        "B_plus.Draw(\"{0}:{1}>>dalitzHist+(10,1.08e8,2.5e8,8,1.15e8,2e8)\".format(m2_H1H2,m2_H2H3), \"{0}*{1}\".format(cuts,weightvar)) #Binning and range limit for the Dalitz Plots\r\n",
        "dalitzHistP = ROOT.gDirectory.Get(\"dalitzHist+\")\r\n",
        "  \r\n",
        "dalitzHistP.Draw(\"colz\")\r\n",
        "\r\n",
        "dalitzHistP.SetTitle(\"Dalitz plot of B+\")\r\n",
        "dalitzHistP.GetYaxis().SetTitle(\"m^{2}_{H1H2} [MeV^{2}/c^{4}]\")\r\n",
        "dalitzHistP.GetXaxis().SetTitle(\"m^{2}_{H2H3} [MeV^{2}/c^{4}]\")\r\n",
        "  \r\n",
        "  #sqroot = new TF1(\"sqroot\",\"gaus\",0,10); sqroot->SetParameters(10,4,1); c1.Divide(2,2); c1.cd(1); sqroot->Draw(); c1.cd(2); sqroot->Draw(); c1.cd(3); sqroot->Draw(); c1.cd(4); sqroot->Draw(); c1.cd(); TPad *newpad=new TPad(\"newpad\",\"transparent layer\",0,0,1,1); newpad.SetFillStyle(4000); newpad.Draw(); newpad.cd(); TPaveLabel *title = new TPaveLabel(0.1,0.94,0.9,0.98,\"Dalitz Plot Title Please?\"); title->SetFillColor(16); title->SetTextFont(52); title->Draw();\r\n",
        "  \r\n",
        "c1.Draw()\r\n",
        "c1.Update()"
      ],
      "execution_count": 37,
      "outputs": [
        {
          "output_type": "stream",
          "text": [
            "Warning in <TCanvas::Constructor>: Deleting canvas with same name: Dalitz_Plot\n"
          ],
          "name": "stderr"
        },
        {
          "output_type": "display_data",
          "data": {
            "image/png": "[encoded data removed]",
            "text/plain": [
              "<IPython.core.display.Image object>"
            ]
          },
          "metadata": {
            "tags": []
          }
        }
      ]
    },
    {
      "cell_type": "code",
      "metadata": {
        "id": "t46slV8Yo-Ed",
        "colab": {
          "base_uri": "https://localhost:8080/",
          "height": 606
        },
        "outputId": "a26a64bf-f77a-4f70-b51f-9457378bdf6f"
      },
      "source": [
        "#Then, ensuring you're still taking the data after the selection, make a Dalitz plot. This is a 2-D scatter plot (use e.g. TH2F to make the plot where we used TH1F before)\r\n",
        "#Choose an appropriate binning in your scatter \r\n",
        "c1 = ROOT.TCanvas(\"Dalitz_Plot\",\"Legend title\",800, 600)\r\n",
        "  #ROOT.gStyle.SetOptStat(0)\r\n",
        "  \r\n",
        "B_minus.Draw(\"{0}:{1}>>dalitzHist-(10,1.1e8,2.5e8,8,1.1e8,2e8)\".format(m2_H1H2,m2_H2H3), \"{0}*{1}\".format(cuts,weightvar)) #Binning and range limit for the Dalitz Plots\r\n",
        "dalitzHistM = ROOT.gDirectory.Get(\"dalitzHist-\")\r\n",
        "  \r\n",
        "dalitzHistM.Draw(\"colz\")\r\n",
        "\r\n",
        "dalitzHistM.SetTitle(\"Dalitz plot of B-\")\r\n",
        "dalitzHistM.GetYaxis().SetTitle(\"m^{2}_{H1H2} [MeV^{2}/c^{4}]\")\r\n",
        "dalitzHistM.GetXaxis().SetTitle(\"m^{2}_{H2H3} [MeV^{2}/c^{4}]\")\r\n",
        "  \r\n",
        "  #sqroot = new TF1(\"sqroot\",\"gaus\",0,10); sqroot->SetParameters(10,4,1); c1.Divide(2,2); c1.cd(1); sqroot->Draw(); c1.cd(2); sqroot->Draw(); c1.cd(3); sqroot->Draw(); c1.cd(4); sqroot->Draw(); c1.cd(); TPad *newpad=new TPad(\"newpad\",\"transparent layer\",0,0,1,1); newpad.SetFillStyle(4000); newpad.Draw(); newpad.cd(); TPaveLabel *title = new TPaveLabel(0.1,0.94,0.9,0.98,\"Dalitz Plot Title Please?\"); title->SetFillColor(16); title->SetTextFont(52); title->Draw();\r\n",
        "  \r\n",
        "c1.Draw()\r\n",
        "c1.Update()"
      ],
      "execution_count": 38,
      "outputs": [
        {
          "output_type": "stream",
          "text": [
            "Warning in <TCanvas::Constructor>: Deleting canvas with same name: Dalitz_Plot\n"
          ],
          "name": "stderr"
        },
        {
          "output_type": "display_data",
          "data": {
            "image/png": "[encoded data removed]",
            "text/plain": [
              "<IPython.core.display.Image object>"
            ]
          },
          "metadata": {
            "tags": []
          }
        }
      ]
    },
    {
      "cell_type": "code",
      "metadata": {
        "id": "RfTDh69qo9_q",
        "colab": {
          "base_uri": "https://localhost:8080/",
          "height": 622
        },
        "outputId": "bee4a61c-7815-4c6a-ab67-d73ff0f78815"
      },
      "source": [
        "#Where we have a higher density of points (or a bigger value in the bin) this is indication of an intermediate resonance\r\n",
        "#Check out the possible resonances you have found in the PDG (http://pdg.lbl.gov/2020/tables/contents_tables.html)\r\n",
        "\r\n",
        "c = ROOT.TCanvas(\"Dalitz_Plot\",\"Legend title\",800, 600)\r\n",
        "histSub = dalitzHistP.Clone(\"histSub\")\r\n",
        "histSub.Add(dalitzHistM, -1)\r\n",
        "\r\n",
        "histSub.Draw(\"colz\")\r\n",
        "\r\n",
        "histSub.SetTitle(\"Dalitz plot subtracted\")\r\n",
        "histSub.GetYaxis().SetTitle(\"m^{2}_{H1H2} [MeV^{2}/c^{4}]\")\r\n",
        "histSub.GetXaxis().SetTitle(\"m^{2}_{H2H3} [MeV^{2}/c^{4}]\")\r\n",
        "  \r\n",
        "  #sqroot = new TF1(\"sqroot\",\"gaus\",0,10); sqroot->SetParameters(10,4,1); c1.Divide(2,2); c1.cd(1); sqroot->Draw(); c1.cd(2); sqroot->Draw(); c1.cd(3); sqroot->Draw(); c1.cd(4); sqroot->Draw(); c1.cd(); TPad *newpad=new TPad(\"newpad\",\"transparent layer\",0,0,1,1); newpad.SetFillStyle(4000); newpad.Draw(); newpad.cd(); TPaveLabel *title = new TPaveLabel(0.1,0.94,0.9,0.98,\"Dalitz Plot Title Please?\"); title->SetFillColor(16); title->SetTextFont(52); title->Draw();\r\n",
        "  \r\n",
        "c.Draw()\r\n",
        "c.Update()"
      ],
      "execution_count": 39,
      "outputs": [
        {
          "output_type": "stream",
          "text": [
            "Warning in <TCanvas::Constructor>: Deleting canvas with same name: Dalitz_Plot\n",
            "Warning in <TH2F::Add>: Attempt to add histograms with different axis limits\n"
          ],
          "name": "stderr"
        },
        {
          "output_type": "display_data",
          "data": {
            "image/png": "[encoded data removed]",
            "text/plain": [
              "<IPython.core.display.Image object>"
            ]
          },
          "metadata": {
            "tags": []
          }
        }
      ]
    }
  ]
}